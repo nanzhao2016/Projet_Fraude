{
 "cells": [
  {
   "cell_type": "markdown",
   "metadata": {},
   "source": [
    "Useful functions for this program: PIL.Image, scipy.ndimage, scipy.misc\n",
    "\n",
    "Useful links:\n",
    "\n",
    "http://scikit-learn.org/stable/auto_examples/applications/face_recognition.html\n",
    "\n",
    "https://github.com/rndbrtrnd/udacity-deep-learning/blob/master/1_notmnist.ipynb\n",
    "\n",
    "http://www.scipy-lectures.org/advanced/image_processing/index.html#opening-and-writing-to-image-files\n"
   ]
  },
  {
   "cell_type": "code",
   "execution_count": null,
   "metadata": {
    "collapsed": true
   },
   "outputs": [],
   "source": [
    "import pandas, numpy, scipy.ndimage\n",
    "import os\n",
    "import matplotlib.pyplot as plt\n",
    "%matplotlib inline\n",
    "\n",
    "import random\n",
    "import math\n",
    "from IPython.display import display, Image\n",
    "import PIL.Image\n",
    "import scipy.misc"
   ]
  },
  {
   "cell_type": "code",
   "execution_count": null,
   "metadata": {
    "collapsed": true
   },
   "outputs": [],
   "source": [
    "path = 'C:/Users/OPEN/Documents/NanZHAO/Projet CIR Fraude/data/store/'  \n",
    "home = 'C:/Users/OPEN/Documents/NanZHAO/Projet CIR Fraude/'  "
   ]
  },
  {
   "cell_type": "code",
   "execution_count": null,
   "metadata": {
    "collapsed": true
   },
   "outputs": [],
   "source": [
    "def disp_sample_Folder(folder_name, sample_size):\n",
    "    images = os.listdir(folder_name)\n",
    "    print (\"There are %d images for all the collected annonces. \" %len(images))\n",
    "    images_path = [os.path.join(folder_name, image) for image in images]\n",
    "    images_sample = random.sample(images_path, sample_size)\n",
    "    for image_sample in images_sample:\n",
    "        i = Image(filename = image_sample)\n",
    "        display(i)"
   ]
  },
  {
   "cell_type": "code",
   "execution_count": null,
   "metadata": {
    "collapsed": true
   },
   "outputs": [],
   "source": [
    "def sample_images_fun_1(folder_name, sample_size):\n",
    "    images = os.listdir(folder_name)\n",
    "    print (\"There are %d images for all the collected annonces. \" %len(images))\n",
    "    images_path = [os.path.join(folder_name, image) for image in images]\n",
    "    images_sample = random.sample(images_path, sample_size)\n",
    "    return (images_sample)"
   ]
  },
  {
   "cell_type": "markdown",
   "metadata": {},
   "source": [
    "A demonstration for the function sample_images_fun_1, use scipy.ndimage to get a image's information."
   ]
  },
  {
   "cell_type": "code",
   "execution_count": null,
   "metadata": {
    "collapsed": true
   },
   "outputs": [],
   "source": [
    "sampled = sample_images(path, 10)\n",
    "for s in sampled:\n",
    "    height, width, channels = scipy.ndimage.imread(s).shape\n",
    "    print(height, width, channels)"
   ]
  },
  {
   "cell_type": "markdown",
   "metadata": {},
   "source": [
    "The first basic function to get height, width, channels information for all the collected images.\n",
    "In the real word, this function is executed by a multi-processing program. The result of the multi-processing program is saved as 'images_info.json' in the data folder."
   ]
  },
  {
   "cell_type": "code",
   "execution_count": null,
   "metadata": {
    "collapsed": true
   },
   "outputs": [],
   "source": [
    "image_info = pandas.DataFrame(columns = ('Id','postId', 'height', 'width', 'channels'))\n",
    "images_all = os.listdir(path)\n",
    "\n",
    "for im in images_all:\n",
    "    postId = im.split('_')[0]\n",
    "    Id = im.split(postId+'_')[1]\n",
    "    shapes = scipy.ndimage.imread(os.path.join(path, im)).shape\n",
    "    height = shapes[0]\n",
    "    width  = shapes[1]\n",
    "    if len(shapes) == 3:\n",
    "        channels = shapes[2]\n",
    "    else:\n",
    "        channels = 2\n",
    "    image_info = image_info.append(pandas.Series({'Id':Id, 'postId':postId, 'height':height, 'width':width, 'channels':channels}), ignore_index=True)\n"
   ]
  },
  {
   "cell_type": "code",
   "execution_count": null,
   "metadata": {
    "collapsed": true
   },
   "outputs": [],
   "source": [
    "data = pandas.read_json(os.path.join(home, 'data/images_info.json'))\n",
    "print(data.head())"
   ]
  },
  {
   "cell_type": "markdown",
   "metadata": {},
   "source": [
    "There exits images that do not have the mode 'RGB'"
   ]
  },
  {
   "cell_type": "code",
   "execution_count": null,
   "metadata": {
    "collapsed": true
   },
   "outputs": [],
   "source": [
    "data_2d = data[data['channels'] < 3]\n",
    "print(len(data_2d))"
   ]
  },
  {
   "cell_type": "markdown",
   "metadata": {},
   "source": [
    "Show images in the mode BW. There are some images corresponding to the term telephone."
   ]
  },
  {
   "cell_type": "code",
   "execution_count": null,
   "metadata": {
    "collapsed": true
   },
   "outputs": [],
   "source": [
    "for i in data_2d.iterrows():\n",
    "    i = Image(filename = (os.path.join(path, (str(i[1]['postId'])+'_'+i[1]['Id']))))\n",
    "    display(i)"
   ]
  },
  {
   "cell_type": "markdown",
   "metadata": {},
   "source": [
    "This function is used to show the shape and size of a group of selected images."
   ]
  },
  {
   "cell_type": "code",
   "execution_count": null,
   "metadata": {
    "collapsed": true
   },
   "outputs": [],
   "source": [
    "def show_images(df, sample_size):\n",
    "    index = df.index.tolist()\n",
    "    index_sample = random.sample(index, sample_size)\n",
    "    for idx in index_sample:\n",
    "        image_path = os.path.join(path, (str(df.loc[idx]['postId'])+'_'+df.loc[idx]['Id']))\n",
    "        i = Image(filename = image_path)\n",
    "        print(image_path)\n",
    "        print(df.loc[idx]['height'], df.loc[idx]['width'])\n",
    "        print(os.path.getsize(image_path))\n",
    "        display(i)"
   ]
  },
  {
   "cell_type": "markdown",
   "metadata": {},
   "source": [
    "The steps below are used to display the distribution of the images pixel(height and width separately). "
   ]
  },
  {
   "cell_type": "code",
   "execution_count": null,
   "metadata": {
    "collapsed": true
   },
   "outputs": [],
   "source": [
    "def rice_interval(data, column):\n",
    "    len_interval = round(math.pow(len(data), 1/3)*2)\n",
    "    return (round((max(data[column])-min(data[column]))/len_interval))"
   ]
  },
  {
   "cell_type": "code",
   "execution_count": null,
   "metadata": {
    "collapsed": true
   },
   "outputs": [],
   "source": [
    "rice_interval(data, 'height')"
   ]
  },
  {
   "cell_type": "code",
   "execution_count": null,
   "metadata": {
    "collapsed": true
   },
   "outputs": [],
   "source": [
    "n, bins, patches = plt.hist(data['height'], bins=3, facecolor='green', alpha=0.75)\n",
    "\n",
    "plt.xlabel('Images height')\n",
    "plt.ylabel('Frequency')\n",
    "plt.title('Image Height Distribution')\n",
    "plt.grid(True)\n",
    "plt.show()"
   ]
  },
  {
   "cell_type": "code",
   "execution_count": null,
   "metadata": {
    "collapsed": true
   },
   "outputs": [],
   "source": [
    "rice_interval(data, 'width')"
   ]
  },
  {
   "cell_type": "code",
   "execution_count": null,
   "metadata": {
    "collapsed": true
   },
   "outputs": [],
   "source": [
    "n, bins, patches = plt.hist(data['width'], bins=5, facecolor='green', alpha=0.75)\n",
    "\n",
    "plt.xlabel('Images width')\n",
    "plt.ylabel('Frequency')\n",
    "plt.title('Image Width Distribution')\n",
    "plt.grid(True)\n",
    "plt.show()"
   ]
  },
  {
   "cell_type": "markdown",
   "metadata": {},
   "source": [
    "From the steps above, the result show that the collected data do not have the same pixels (width x height). There exist some small images (for exmaple 50x50). We have to uniform the pixels of all the images in order to apply PCA and clustering treatments. At the first time, a small group with the height in the intervals (0, 150], (150, 300] and (300, 450] are sampled to verify whether the reshaping over images will bring a lot of dammages or not."
   ]
  },
  {
   "cell_type": "code",
   "execution_count": null,
   "metadata": {
    "collapsed": true
   },
   "outputs": [],
   "source": [
    "data_150 = data[data['height'] <= 150]\n",
    "data_300 = data[(data.height >150) & (data.height <= 300)]\n",
    "data_450 = data[(data.height >300) & (data.height <= 450)]\n",
    "\n",
    "\n",
    "def sample_images(ls, df, sample_size):\n",
    "    sampled = random.sample(df.index.tolist(), sample_size)\n",
    "    for i in sampled:\n",
    "        ls.append(i)\n",
    "    return(ls)"
   ]
  },
  {
   "cell_type": "markdown",
   "metadata": {},
   "source": [
    "For each of the sub-group, at the first time, we just take 10 images."
   ]
  },
  {
   "cell_type": "code",
   "execution_count": null,
   "metadata": {
    "collapsed": true
   },
   "outputs": [],
   "source": [
    "index_sample = []\n",
    "index_sample = sample_images(index_sample, data_150, 10)\n",
    "index_sample = sample_images(index_sample, data_300, 10)\n",
    "index_sample = sample_images(index_sample, data_450, 10)\n",
    "data_sample = data.loc[index_sample]\n",
    "print(data_sample.head())"
   ]
  },
  {
   "cell_type": "markdown",
   "metadata": {},
   "source": [
    "The below function realize tow steps: \n",
    "\n",
    "1. to reshape a image and save to the folder reduced\n",
    "\n",
    "2. to change the mode RGB to BW with the function numpy.array object.convert('L')\n",
    "\n",
    "When we treate the reshape step (a PIL.Image.Image object applies resize(pixel, PIL.Image.ANTIALIAS), we use the filter PIL.Image.ANTIALIAS. There are other filters as PIL.Image.BILINEAR,  PIL.Image.BICUBIC and NONE.\n",
    "\n",
    "For a PIL.Image.Image object, to get pixel .size, to get mode, .mode\n",
    "\n",
    "We can also use function scipy.misc.imresize(images_400, 0.88) to reduce the pixel of an image."
   ]
  },
  {
   "cell_type": "code",
   "execution_count": null,
   "metadata": {
    "collapsed": true
   },
   "outputs": [],
   "source": [
    "def reduce_bw_images(data_sample, pixel):\n",
    "    reduced_folder = os.path.join(home, 'data/reduced/')\n",
    "    bw_folder = os.path.join(home, 'data/bw/')\n",
    "    if not os.path.exists(reduced_folder):\n",
    "        os.makedirs(reduced_folder)\n",
    "    if not os.path.exists(bw_folder):\n",
    "        os.makedirs(bw_folder)\n",
    "    \n",
    "    for i in data_sample.index:\n",
    "        image_path_relative = str(data_sample.loc[i, 'postId']) +'_'+data_sample.loc[i, 'Id']\n",
    "        image_path = os.path.join(path, image_path_relative)\n",
    "        print(image_path)\n",
    "        img = PIL.Image.open(image_path)\n",
    "        img_reshaped = img.resize(pixel, PIL.Image.ANTIALIAS)\n",
    "        scipy.misc.imsave(os.path.join(reduced_folder, image_path_relative), img_reshaped)\n",
    "        img_reshaped_bw = numpy.asarray(img_reshaped.convert('L'))\n",
    "        scipy.misc.imsave(os.path.join(bw_folder, image_path_relative), img_reshaped_bw)\n",
    "        to_display = PIL.Image.fromarray(img_reshaped_bw)\n",
    "        display(to_display)\n",
    "reduce_bw_images(data_sample, (150,150))"
   ]
  }
 ],
 "metadata": {
  "kernelspec": {
   "display_name": "Python [Root]",
   "language": "python",
   "name": "Python [Root]"
  },
  "language_info": {
   "codemirror_mode": {
    "name": "ipython",
    "version": 3
   },
   "file_extension": ".py",
   "mimetype": "text/x-python",
   "name": "python",
   "nbconvert_exporter": "python",
   "pygments_lexer": "ipython3",
   "version": "3.5.2"
  }
 },
 "nbformat": 4,
 "nbformat_minor": 0
}
