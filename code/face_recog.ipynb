{
 "cells": [
  {
   "cell_type": "code",
   "execution_count": 1,
   "metadata": {
    "collapsed": false
   },
   "outputs": [],
   "source": [
    "from time import time\n",
    "import logging\n",
    "import matplotlib.pyplot as plt\n",
    "\n",
    "from sklearn.model_selection import train_test_split\n",
    "from sklearn.model_selection import GridSearchCV\n",
    "from sklearn.datasets import fetch_lfw_people\n",
    "from sklearn.metrics import classification_report\n",
    "from sklearn.metrics import confusion_matrix\n",
    "from sklearn.decomposition import PCA\n",
    "from sklearn.svm import SVC"
   ]
  },
  {
   "cell_type": "code",
   "execution_count": 2,
   "metadata": {
    "collapsed": true
   },
   "outputs": [],
   "source": [
    "lfw_people = fetch_lfw_people(min_faces_per_person=70, resize=0.4)"
   ]
  },
  {
   "cell_type": "code",
   "execution_count": 6,
   "metadata": {
    "collapsed": false
   },
   "outputs": [
    {
     "data": {
      "text/plain": [
       "array([[ 254.        ,  254.        ,  251.66667175, ...,   87.33333588,\n",
       "          88.66666412,   86.66666412],\n",
       "       [  39.66666794,   50.33333206,   47.        , ...,  117.66666412,\n",
       "         115.        ,  133.66667175],\n",
       "       [  89.33333588,  104.        ,  126.        , ...,  175.33332825,\n",
       "         183.33332825,  183.        ],\n",
       "       ..., \n",
       "       [  86.        ,   80.33333588,   75.        , ...,   44.33333206,\n",
       "          49.66666794,   44.66666794],\n",
       "       [  50.66666794,   65.66666412,   88.        , ...,  197.        ,\n",
       "         179.33332825,  166.33332825],\n",
       "       [  30.        ,   27.        ,   32.66666794, ...,   35.        ,\n",
       "          35.33333206,   61.        ]], dtype=float32)"
      ]
     },
     "execution_count": 6,
     "metadata": {},
     "output_type": "execute_result"
    }
   ],
   "source": [
    "lfw_people.data"
   ]
  },
  {
   "cell_type": "code",
   "execution_count": 26,
   "metadata": {
    "collapsed": false
   },
   "outputs": [
    {
     "data": {
      "text/plain": [
       "(1288, 1850)"
      ]
     },
     "execution_count": 26,
     "metadata": {},
     "output_type": "execute_result"
    }
   ],
   "source": [
    "lfw_people.data.shape"
   ]
  },
  {
   "cell_type": "code",
   "execution_count": 25,
   "metadata": {
    "collapsed": false
   },
   "outputs": [
    {
     "data": {
      "text/plain": [
       "array([[  39.66666794,   50.33333206,   47.        , ...,   61.33333206,\n",
       "          51.        ,   38.66666794],\n",
       "       [  47.66666794,   63.        ,   65.33333588, ...,   57.66666794,\n",
       "          55.        ,   44.66666794],\n",
       "       [  55.33333206,   76.66666412,   86.33333588, ...,   71.        ,\n",
       "          48.33333206,   43.66666794],\n",
       "       ..., \n",
       "       [  73.66666412,   75.66666412,   75.33333588, ...,  125.66666412,\n",
       "         119.66666412,  115.33333588],\n",
       "       [  75.33333588,   76.33333588,   77.        , ...,  124.        ,\n",
       "         116.        ,  116.33333588],\n",
       "       [  77.33333588,   76.33333588,   75.66666412, ...,  117.66666412,\n",
       "         115.        ,  133.66667175]], dtype=float32)"
      ]
     },
     "execution_count": 25,
     "metadata": {},
     "output_type": "execute_result"
    }
   ],
   "source": [
    "lfw_people.images[1]"
   ]
  },
  {
   "cell_type": "code",
   "execution_count": 19,
   "metadata": {
    "collapsed": false
   },
   "outputs": [
    {
     "data": {
      "text/plain": [
       "(50, 37)"
      ]
     },
     "execution_count": 19,
     "metadata": {},
     "output_type": "execute_result"
    }
   ],
   "source": [
    "lfw_people.images[1].shape"
   ]
  },
  {
   "cell_type": "code",
   "execution_count": 23,
   "metadata": {
    "collapsed": false
   },
   "outputs": [
    {
     "data": {
      "text/plain": [
       "array([  47.66666794,   63.        ,   65.33333588,   90.        ,\n",
       "        120.33333588,  131.33332825,  150.66667175,  165.        ,\n",
       "        175.        ,  183.33332825,  189.        ,  193.66667175,\n",
       "        197.66667175,  201.66667175,  203.33332825,  203.66667175,\n",
       "        202.        ,  200.33332825,  200.        ,  196.33332825,\n",
       "        192.        ,  191.33332825,  189.66667175,  183.66667175,\n",
       "        176.66667175,  168.33332825,  163.33332825,  164.33332825,\n",
       "        162.        ,  154.66667175,  149.66667175,  142.66667175,\n",
       "        117.        ,   79.33333588,   57.66666794,   55.        ,\n",
       "         44.66666794], dtype=float32)"
      ]
     },
     "execution_count": 23,
     "metadata": {},
     "output_type": "execute_result"
    }
   ],
   "source": [
    "lfw_people.images[1][1]"
   ]
  }
 ],
 "metadata": {
  "anaconda-cloud": {},
  "kernelspec": {
   "display_name": "Python [Root]",
   "language": "python",
   "name": "Python [Root]"
  },
  "language_info": {
   "codemirror_mode": {
    "name": "ipython",
    "version": 3
   },
   "file_extension": ".py",
   "mimetype": "text/x-python",
   "name": "python",
   "nbconvert_exporter": "python",
   "pygments_lexer": "ipython3",
   "version": "3.5.2"
  }
 },
 "nbformat": 4,
 "nbformat_minor": 0
}
