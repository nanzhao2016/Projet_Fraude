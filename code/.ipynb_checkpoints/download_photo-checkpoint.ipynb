{
 "cells": [
  {
   "cell_type": "code",
   "execution_count": 1,
   "metadata": {
    "collapsed": true
   },
   "outputs": [],
   "source": [
    "%matplotlib inline\n",
    "import pandas, numpy\n",
    "import math\n",
    "import matplotlib.pyplot as plt\n",
    "import os\n",
    "import scipy.ndimage\n",
    "import urllib\n",
    "import urllib.request\n",
    "\n",
    "home = 'C:/Users/OPEN/Documents/NanZHAO/Projet CIR Fraude/'"
   ]
  },
  {
   "cell_type": "code",
   "execution_count": 3,
   "metadata": {
    "collapsed": false
   },
   "outputs": [
    {
     "data": {
      "text/html": [
       "<div>\n",
       "<table border=\"1\" class=\"dataframe\">\n",
       "  <thead>\n",
       "    <tr style=\"text-align: right;\">\n",
       "      <th></th>\n",
       "      <th>address</th>\n",
       "      <th>attributes</th>\n",
       "      <th>city</th>\n",
       "      <th>description</th>\n",
       "      <th>hasTelephone</th>\n",
       "      <th>latitude</th>\n",
       "      <th>longitude</th>\n",
       "      <th>numberPhotos</th>\n",
       "      <th>photos</th>\n",
       "      <th>postId</th>\n",
       "      <th>posted</th>\n",
       "      <th>price</th>\n",
       "      <th>source</th>\n",
       "      <th>start_url</th>\n",
       "      <th>title</th>\n",
       "      <th>updated</th>\n",
       "      <th>url</th>\n",
       "    </tr>\n",
       "  </thead>\n",
       "  <tbody>\n",
       "    <tr>\n",
       "      <th>0</th>\n",
       "      <td>NaN</td>\n",
       "      <td>[mobile OS: other]</td>\n",
       "      <td>marshall</td>\n",
       "      <td>For Salei have new in box. only opened to show...</td>\n",
       "      <td>False</td>\n",
       "      <td>44.950950</td>\n",
       "      <td>-95.368195</td>\n",
       "      <td>3</td>\n",
       "      <td>[https://images.craigslist.org/00W0W_1BQvcKZae...</td>\n",
       "      <td>6.002473e+09</td>\n",
       "      <td>2017-02-13T16:50:58-0600</td>\n",
       "      <td>$10</td>\n",
       "      <td>announcesIphone</td>\n",
       "      <td>https://marshall.craigslist.org/search/sss?que...</td>\n",
       "      <td>Ballistic Iphone 5/5s Case</td>\n",
       "      <td>2017-03-11T23:02:20-0600</td>\n",
       "      <td>https://marshall.craigslist.org/mob/6002472651...</td>\n",
       "    </tr>\n",
       "    <tr>\n",
       "      <th>1</th>\n",
       "      <td>NaN</td>\n",
       "      <td>[condition: like new, make / manufacturer: Ver...</td>\n",
       "      <td>rmn</td>\n",
       "      <td>Barely Used - Verizon Apple iPhone 7  128GB Sm...</td>\n",
       "      <td>False</td>\n",
       "      <td>NaN</td>\n",
       "      <td>NaN</td>\n",
       "      <td>2</td>\n",
       "      <td>[https://images.craigslist.org/00P0P_3LANvZPBL...</td>\n",
       "      <td>6.044354e+09</td>\n",
       "      <td>2017-03-14T19:28:50-0500</td>\n",
       "      <td>$630</td>\n",
       "      <td>announcesIphone</td>\n",
       "      <td>https://rmn.craigslist.org/search/sss?query=ip...</td>\n",
       "      <td>Verizon Iphone 7 Rose Gold 128 gb</td>\n",
       "      <td>NaN</td>\n",
       "      <td>https://rmn.craigslist.org/ele/6044353500.html</td>\n",
       "    </tr>\n",
       "    <tr>\n",
       "      <th>2</th>\n",
       "      <td>NaN</td>\n",
       "      <td>[condition: new, make / manufacturer: LifeProo...</td>\n",
       "      <td>rmn</td>\n",
       "      <td>LifeProof NUUD Waterproof Case for iPhone 6. S...</td>\n",
       "      <td>False</td>\n",
       "      <td>44.153800</td>\n",
       "      <td>-93.996000</td>\n",
       "      <td>1</td>\n",
       "      <td>[https://images.craigslist.org/00g0g_Uv43A8fnJ...</td>\n",
       "      <td>6.015487e+09</td>\n",
       "      <td>2017-02-22T18:00:36-0600</td>\n",
       "      <td>$40</td>\n",
       "      <td>announcesIphone</td>\n",
       "      <td>https://rmn.craigslist.org/search/sss?query=ip...</td>\n",
       "      <td>LifeProof NUUD Waterproof Case for iPhone 6/6s</td>\n",
       "      <td>2017-02-22T18:03:28-0600</td>\n",
       "      <td>https://rmn.craigslist.org/mob/6015487414.html</td>\n",
       "    </tr>\n",
       "    <tr>\n",
       "      <th>3</th>\n",
       "      <td>1660 Main Street</td>\n",
       "      <td>NaN</td>\n",
       "      <td>rmn</td>\n",
       "      <td>Zumbrota Fordaddress:1660 Main Street Zumbrota...</td>\n",
       "      <td>False</td>\n",
       "      <td>44.281238</td>\n",
       "      <td>-92.670375</td>\n",
       "      <td>23</td>\n",
       "      <td>[https://images.craigslist.org/00U0U_9x8p898kg...</td>\n",
       "      <td>6.040776e+09</td>\n",
       "      <td>2017-03-12T12:15:50-0500</td>\n",
       "      <td>$12997</td>\n",
       "      <td>announcesIphone</td>\n",
       "      <td>https://rmn.craigslist.org/search/sss?query=ip...</td>\n",
       "      <td>2016 Chrysler 200 Limited WE FINANCE!!!!!!</td>\n",
       "      <td>2017-03-12T12:16:07-0500</td>\n",
       "      <td>https://rmn.craigslist.org/ctd/6040775713.html</td>\n",
       "    </tr>\n",
       "    <tr>\n",
       "      <th>4</th>\n",
       "      <td>NaN</td>\n",
       "      <td>[condition: like new, make / manufacturer: Lif...</td>\n",
       "      <td>rmn</td>\n",
       "      <td>Lifeproof case purple for iPhone 6/6s call or ...</td>\n",
       "      <td>True</td>\n",
       "      <td>43.714600</td>\n",
       "      <td>-92.267900</td>\n",
       "      <td>1</td>\n",
       "      <td>[https://images.craigslist.org/00O0O_hxqOmT0Sf...</td>\n",
       "      <td>5.951630e+09</td>\n",
       "      <td>2017-01-09T07:43:33-0600</td>\n",
       "      <td>$20</td>\n",
       "      <td>announcesIphone</td>\n",
       "      <td>https://rmn.craigslist.org/search/sss?query=ip...</td>\n",
       "      <td>Lifeproof case</td>\n",
       "      <td>2017-02-02T17:29:48-0600</td>\n",
       "      <td>https://rmn.craigslist.org/mob/5951630017.html</td>\n",
       "    </tr>\n",
       "  </tbody>\n",
       "</table>\n",
       "</div>"
      ],
      "text/plain": [
       "            address                                         attributes  \\\n",
       "0               NaN                                 [mobile OS: other]   \n",
       "1               NaN  [condition: like new, make / manufacturer: Ver...   \n",
       "2               NaN  [condition: new, make / manufacturer: LifeProo...   \n",
       "3  1660 Main Street                                                NaN   \n",
       "4               NaN  [condition: like new, make / manufacturer: Lif...   \n",
       "\n",
       "       city                                        description hasTelephone  \\\n",
       "0  marshall  For Salei have new in box. only opened to show...        False   \n",
       "1       rmn  Barely Used - Verizon Apple iPhone 7  128GB Sm...        False   \n",
       "2       rmn  LifeProof NUUD Waterproof Case for iPhone 6. S...        False   \n",
       "3       rmn  Zumbrota Fordaddress:1660 Main Street Zumbrota...        False   \n",
       "4       rmn  Lifeproof case purple for iPhone 6/6s call or ...         True   \n",
       "\n",
       "    latitude  longitude  numberPhotos  \\\n",
       "0  44.950950 -95.368195             3   \n",
       "1        NaN        NaN             2   \n",
       "2  44.153800 -93.996000             1   \n",
       "3  44.281238 -92.670375            23   \n",
       "4  43.714600 -92.267900             1   \n",
       "\n",
       "                                              photos        postId  \\\n",
       "0  [https://images.craigslist.org/00W0W_1BQvcKZae...  6.002473e+09   \n",
       "1  [https://images.craigslist.org/00P0P_3LANvZPBL...  6.044354e+09   \n",
       "2  [https://images.craigslist.org/00g0g_Uv43A8fnJ...  6.015487e+09   \n",
       "3  [https://images.craigslist.org/00U0U_9x8p898kg...  6.040776e+09   \n",
       "4  [https://images.craigslist.org/00O0O_hxqOmT0Sf...  5.951630e+09   \n",
       "\n",
       "                     posted   price           source  \\\n",
       "0  2017-02-13T16:50:58-0600     $10  announcesIphone   \n",
       "1  2017-03-14T19:28:50-0500    $630  announcesIphone   \n",
       "2  2017-02-22T18:00:36-0600     $40  announcesIphone   \n",
       "3  2017-03-12T12:15:50-0500  $12997  announcesIphone   \n",
       "4  2017-01-09T07:43:33-0600     $20  announcesIphone   \n",
       "\n",
       "                                           start_url  \\\n",
       "0  https://marshall.craigslist.org/search/sss?que...   \n",
       "1  https://rmn.craigslist.org/search/sss?query=ip...   \n",
       "2  https://rmn.craigslist.org/search/sss?query=ip...   \n",
       "3  https://rmn.craigslist.org/search/sss?query=ip...   \n",
       "4  https://rmn.craigslist.org/search/sss?query=ip...   \n",
       "\n",
       "                                            title                   updated  \\\n",
       "0                      Ballistic Iphone 5/5s Case  2017-03-11T23:02:20-0600   \n",
       "1               Verizon Iphone 7 Rose Gold 128 gb                       NaN   \n",
       "2  LifeProof NUUD Waterproof Case for iPhone 6/6s  2017-02-22T18:03:28-0600   \n",
       "3      2016 Chrysler 200 Limited WE FINANCE!!!!!!  2017-03-12T12:16:07-0500   \n",
       "4                                  Lifeproof case  2017-02-02T17:29:48-0600   \n",
       "\n",
       "                                                 url  \n",
       "0  https://marshall.craigslist.org/mob/6002472651...  \n",
       "1     https://rmn.craigslist.org/ele/6044353500.html  \n",
       "2     https://rmn.craigslist.org/mob/6015487414.html  \n",
       "3     https://rmn.craigslist.org/ctd/6040775713.html  \n",
       "4     https://rmn.craigslist.org/mob/5951630017.html  "
      ]
     },
     "execution_count": 3,
     "metadata": {},
     "output_type": "execute_result"
    }
   ],
   "source": [
    "annonces = pandas.read_json(os.path.join(home, 'data/2017-03-16T19-11-15_announcesIphone_scraped_items.json'))\n",
    "annonces.head()"
   ]
  },
  {
   "cell_type": "code",
   "execution_count": 4,
   "metadata": {
    "collapsed": false
   },
   "outputs": [
    {
     "data": {
      "text/plain": [
       "73665910"
      ]
     },
     "execution_count": 4,
     "metadata": {},
     "output_type": "execute_result"
    }
   ],
   "source": [
    "jsonSize = os.path.getsize(os.path.join(home, 'data/2017-03-16T19-11-15_announcesIphone_scraped_items.json'))\n",
    "jsonSize"
   ]
  },
  {
   "cell_type": "code",
   "execution_count": 5,
   "metadata": {
    "collapsed": false
   },
   "outputs": [
    {
     "data": {
      "text/plain": [
       "Index(['address', 'attributes', 'city', 'description', 'hasTelephone',\n",
       "       'latitude', 'longitude', 'numberPhotos', 'photos', 'postId', 'posted',\n",
       "       'price', 'source', 'start_url', 'title', 'updated', 'url'],\n",
       "      dtype='object')"
      ]
     },
     "execution_count": 5,
     "metadata": {},
     "output_type": "execute_result"
    }
   ],
   "source": [
    "annonces.columns"
   ]
  },
  {
   "cell_type": "code",
   "execution_count": 6,
   "metadata": {
    "collapsed": false
   },
   "outputs": [
    {
     "data": {
      "text/html": [
       "<div>\n",
       "<table border=\"1\" class=\"dataframe\">\n",
       "  <thead>\n",
       "    <tr style=\"text-align: right;\">\n",
       "      <th></th>\n",
       "      <th>photos</th>\n",
       "    </tr>\n",
       "  </thead>\n",
       "  <tbody>\n",
       "    <tr>\n",
       "      <th>0</th>\n",
       "      <td>[https://images.craigslist.org/00W0W_1BQvcKZae...</td>\n",
       "    </tr>\n",
       "    <tr>\n",
       "      <th>1</th>\n",
       "      <td>[https://images.craigslist.org/00P0P_3LANvZPBL...</td>\n",
       "    </tr>\n",
       "    <tr>\n",
       "      <th>2</th>\n",
       "      <td>[https://images.craigslist.org/00g0g_Uv43A8fnJ...</td>\n",
       "    </tr>\n",
       "    <tr>\n",
       "      <th>3</th>\n",
       "      <td>[https://images.craigslist.org/00U0U_9x8p898kg...</td>\n",
       "    </tr>\n",
       "    <tr>\n",
       "      <th>4</th>\n",
       "      <td>[https://images.craigslist.org/00O0O_hxqOmT0Sf...</td>\n",
       "    </tr>\n",
       "  </tbody>\n",
       "</table>\n",
       "</div>"
      ],
      "text/plain": [
       "                                              photos\n",
       "0  [https://images.craigslist.org/00W0W_1BQvcKZae...\n",
       "1  [https://images.craigslist.org/00P0P_3LANvZPBL...\n",
       "2  [https://images.craigslist.org/00g0g_Uv43A8fnJ...\n",
       "3  [https://images.craigslist.org/00U0U_9x8p898kg...\n",
       "4  [https://images.craigslist.org/00O0O_hxqOmT0Sf..."
      ]
     },
     "execution_count": 6,
     "metadata": {},
     "output_type": "execute_result"
    }
   ],
   "source": [
    "annonces[['photos']].head()"
   ]
  },
  {
   "cell_type": "code",
   "execution_count": 7,
   "metadata": {
    "collapsed": false
   },
   "outputs": [
    {
     "data": {
      "text/plain": [
       "49023"
      ]
     },
     "execution_count": 7,
     "metadata": {},
     "output_type": "execute_result"
    }
   ],
   "source": [
    "total_annonces_number= len(annonces['photos'])\n",
    "total_annonces_number"
   ]
  },
  {
   "cell_type": "code",
   "execution_count": 8,
   "metadata": {
    "collapsed": false,
    "scrolled": true
   },
   "outputs": [
    {
     "data": {
      "text/plain": [
       "['https://images.craigslist.org/00W0W_1BQvcKZaeiZ_600x450.jpg',\n",
       " 'https://images.craigslist.org/00Z0Z_ehVZ218Twhi_600x450.jpg',\n",
       " 'https://images.craigslist.org/00z0z_jRoHfqvHY4Z_600x450.jpg']"
      ]
     },
     "execution_count": 8,
     "metadata": {},
     "output_type": "execute_result"
    }
   ],
   "source": [
    "annonces['photos'][0]"
   ]
  },
  {
   "cell_type": "code",
   "execution_count": 11,
   "metadata": {
    "collapsed": false
   },
   "outputs": [
    {
     "data": {
      "text/plain": [
       "49020"
      ]
     },
     "execution_count": 11,
     "metadata": {},
     "output_type": "execute_result"
    }
   ],
   "source": [
    "len(annonces['postId'].unique())"
   ]
  },
  {
   "cell_type": "code",
   "execution_count": 16,
   "metadata": {
    "collapsed": false
   },
   "outputs": [
    {
     "data": {
      "text/plain": [
       "6044353500.0"
      ]
     },
     "execution_count": 16,
     "metadata": {},
     "output_type": "execute_result"
    }
   ],
   "source": [
    "annonces['postId'][1]"
   ]
  },
  {
   "cell_type": "code",
   "execution_count": 19,
   "metadata": {
    "collapsed": false
   },
   "outputs": [
    {
     "data": {
      "text/plain": [
       "count     49023\n",
       "unique    49020\n",
       "top         nan\n",
       "freq          4\n",
       "Name: postId, dtype: object"
      ]
     },
     "execution_count": 19,
     "metadata": {},
     "output_type": "execute_result"
    }
   ],
   "source": [
    "annonces['postId'].astype(str).describe()"
   ]
  },
  {
   "cell_type": "code",
   "execution_count": 20,
   "metadata": {
    "collapsed": false
   },
   "outputs": [
    {
     "data": {
      "text/html": [
       "<div>\n",
       "<table border=\"1\" class=\"dataframe\">\n",
       "  <thead>\n",
       "    <tr style=\"text-align: right;\">\n",
       "      <th></th>\n",
       "      <th>address</th>\n",
       "      <th>attributes</th>\n",
       "      <th>city</th>\n",
       "      <th>description</th>\n",
       "      <th>hasTelephone</th>\n",
       "      <th>latitude</th>\n",
       "      <th>longitude</th>\n",
       "      <th>numberPhotos</th>\n",
       "      <th>photos</th>\n",
       "      <th>postId</th>\n",
       "      <th>posted</th>\n",
       "      <th>price</th>\n",
       "      <th>source</th>\n",
       "      <th>start_url</th>\n",
       "      <th>title</th>\n",
       "      <th>updated</th>\n",
       "      <th>url</th>\n",
       "    </tr>\n",
       "  </thead>\n",
       "  <tbody>\n",
       "    <tr>\n",
       "      <th>15227</th>\n",
       "      <td>NaN</td>\n",
       "      <td>[]</td>\n",
       "      <td>phoenix</td>\n",
       "      <td></td>\n",
       "      <td>False</td>\n",
       "      <td>NaN</td>\n",
       "      <td>NaN</td>\n",
       "      <td>0</td>\n",
       "      <td>[]</td>\n",
       "      <td>NaN</td>\n",
       "      <td>NaN</td>\n",
       "      <td>$10</td>\n",
       "      <td>announcesIphone</td>\n",
       "      <td>https://phoenix.craigslist.org/search/sss?quer...</td>\n",
       "      <td>6ft iPhone 4 4S USB Cable</td>\n",
       "      <td>NaN</td>\n",
       "      <td>https://phoenix.craigslist.org/cph/mob/6017723...</td>\n",
       "    </tr>\n",
       "    <tr>\n",
       "      <th>18741</th>\n",
       "      <td>NaN</td>\n",
       "      <td>[]</td>\n",
       "      <td>tucson</td>\n",
       "      <td></td>\n",
       "      <td>False</td>\n",
       "      <td>NaN</td>\n",
       "      <td>NaN</td>\n",
       "      <td>0</td>\n",
       "      <td>[]</td>\n",
       "      <td>NaN</td>\n",
       "      <td>NaN</td>\n",
       "      <td>$299</td>\n",
       "      <td>announcesIphone</td>\n",
       "      <td>https://tucson.craigslist.org/search/sss?query...</td>\n",
       "      <td>iPad 2 32GB &amp; BLUETOOTH KEYBOARD</td>\n",
       "      <td>NaN</td>\n",
       "      <td>https://tucson.craigslist.org/ele/6023927837.html</td>\n",
       "    </tr>\n",
       "    <tr>\n",
       "      <th>33752</th>\n",
       "      <td>NaN</td>\n",
       "      <td>[]</td>\n",
       "      <td>slo</td>\n",
       "      <td></td>\n",
       "      <td>False</td>\n",
       "      <td>NaN</td>\n",
       "      <td>NaN</td>\n",
       "      <td>0</td>\n",
       "      <td>[]</td>\n",
       "      <td>NaN</td>\n",
       "      <td>NaN</td>\n",
       "      <td>$1</td>\n",
       "      <td>announcesIphone</td>\n",
       "      <td>https://slo.craigslist.org/search/sss?query=ip...</td>\n",
       "      <td>Beware of christian calzo</td>\n",
       "      <td>NaN</td>\n",
       "      <td>https://slo.craigslist.org/mob/5998747689.html</td>\n",
       "    </tr>\n",
       "    <tr>\n",
       "      <th>36454</th>\n",
       "      <td>NaN</td>\n",
       "      <td>[]</td>\n",
       "      <td>inlandempire</td>\n",
       "      <td></td>\n",
       "      <td>False</td>\n",
       "      <td>NaN</td>\n",
       "      <td>NaN</td>\n",
       "      <td>0</td>\n",
       "      <td>[]</td>\n",
       "      <td>NaN</td>\n",
       "      <td>NaN</td>\n",
       "      <td>$300</td>\n",
       "      <td>announcesIphone</td>\n",
       "      <td>https://inlandempire.craigslist.org/search/sss...</td>\n",
       "      <td>Apple iPhone 6 Plus - 64GB - Space Gray (AT&amp;T)...</td>\n",
       "      <td>NaN</td>\n",
       "      <td>https://inlandempire.craigslist.org/mob/603270...</td>\n",
       "    </tr>\n",
       "  </tbody>\n",
       "</table>\n",
       "</div>"
      ],
      "text/plain": [
       "      address attributes          city description hasTelephone  latitude  \\\n",
       "15227     NaN         []       phoenix                    False       NaN   \n",
       "18741     NaN         []        tucson                    False       NaN   \n",
       "33752     NaN         []           slo                    False       NaN   \n",
       "36454     NaN         []  inlandempire                    False       NaN   \n",
       "\n",
       "       longitude  numberPhotos photos  postId posted price           source  \\\n",
       "15227        NaN             0     []     NaN    NaN   $10  announcesIphone   \n",
       "18741        NaN             0     []     NaN    NaN  $299  announcesIphone   \n",
       "33752        NaN             0     []     NaN    NaN    $1  announcesIphone   \n",
       "36454        NaN             0     []     NaN    NaN  $300  announcesIphone   \n",
       "\n",
       "                                               start_url  \\\n",
       "15227  https://phoenix.craigslist.org/search/sss?quer...   \n",
       "18741  https://tucson.craigslist.org/search/sss?query...   \n",
       "33752  https://slo.craigslist.org/search/sss?query=ip...   \n",
       "36454  https://inlandempire.craigslist.org/search/sss...   \n",
       "\n",
       "                                                   title updated  \\\n",
       "15227                          6ft iPhone 4 4S USB Cable     NaN   \n",
       "18741                   iPad 2 32GB & BLUETOOTH KEYBOARD     NaN   \n",
       "33752                          Beware of christian calzo     NaN   \n",
       "36454  Apple iPhone 6 Plus - 64GB - Space Gray (AT&T)...     NaN   \n",
       "\n",
       "                                                     url  \n",
       "15227  https://phoenix.craigslist.org/cph/mob/6017723...  \n",
       "18741  https://tucson.craigslist.org/ele/6023927837.html  \n",
       "33752     https://slo.craigslist.org/mob/5998747689.html  \n",
       "36454  https://inlandempire.craigslist.org/mob/603270...  "
      ]
     },
     "execution_count": 20,
     "metadata": {},
     "output_type": "execute_result"
    }
   ],
   "source": [
    "annonces[annonces['postId'].astype(str)=='nan']"
   ]
  },
  {
   "cell_type": "code",
   "execution_count": 28,
   "metadata": {
    "collapsed": false
   },
   "outputs": [],
   "source": [
    "nan_list = annonces[annonces['postId'].astype(str)=='nan'].index.tolist()\n",
    "annonces = annonces.drop(nan_list)"
   ]
  },
  {
   "cell_type": "code",
   "execution_count": 31,
   "metadata": {
    "collapsed": false
   },
   "outputs": [
    {
     "data": {
      "text/plain": [
       "49019"
      ]
     },
     "execution_count": 31,
     "metadata": {},
     "output_type": "execute_result"
    }
   ],
   "source": [
    "len(annonces['postId'].unique())"
   ]
  },
  {
   "cell_type": "code",
   "execution_count": 32,
   "metadata": {
    "collapsed": false
   },
   "outputs": [
    {
     "data": {
      "text/plain": [
       "49019"
      ]
     },
     "execution_count": 32,
     "metadata": {},
     "output_type": "execute_result"
    }
   ],
   "source": [
    "len(annonces['postId'])"
   ]
  },
  {
   "cell_type": "code",
   "execution_count": 33,
   "metadata": {
    "collapsed": true
   },
   "outputs": [],
   "source": [
    "annonces.to_json(os.path.join(home, 'data/2017-03-16_announcesIphone.json'))"
   ]
  },
  {
   "cell_type": "code",
   "execution_count": 96,
   "metadata": {
    "collapsed": true
   },
   "outputs": [],
   "source": [
    "annonces_photos = annonces[['postId', 'numberPhotos', 'photos']]"
   ]
  },
  {
   "cell_type": "code",
   "execution_count": 35,
   "metadata": {
    "collapsed": false
   },
   "outputs": [
    {
     "data": {
      "text/plain": [
       "147057"
      ]
     },
     "execution_count": 35,
     "metadata": {},
     "output_type": "execute_result"
    }
   ],
   "source": [
    "annonces_photos.size"
   ]
  },
  {
   "cell_type": "code",
   "execution_count": 37,
   "metadata": {
    "collapsed": false
   },
   "outputs": [],
   "source": [
    "annonces_photos.to_json(os.path.join(home, 'data/photos.json'))"
   ]
  },
  {
   "cell_type": "code",
   "execution_count": 38,
   "metadata": {
    "collapsed": false
   },
   "outputs": [
    {
     "data": {
      "text/html": [
       "<div>\n",
       "<table border=\"1\" class=\"dataframe\">\n",
       "  <thead>\n",
       "    <tr style=\"text-align: right;\">\n",
       "      <th></th>\n",
       "      <th>postId</th>\n",
       "      <th>numberPhotos</th>\n",
       "      <th>photos</th>\n",
       "    </tr>\n",
       "  </thead>\n",
       "  <tbody>\n",
       "    <tr>\n",
       "      <th>0</th>\n",
       "      <td>6.002473e+09</td>\n",
       "      <td>3</td>\n",
       "      <td>[https://images.craigslist.org/00W0W_1BQvcKZae...</td>\n",
       "    </tr>\n",
       "    <tr>\n",
       "      <th>1</th>\n",
       "      <td>6.044354e+09</td>\n",
       "      <td>2</td>\n",
       "      <td>[https://images.craigslist.org/00P0P_3LANvZPBL...</td>\n",
       "    </tr>\n",
       "  </tbody>\n",
       "</table>\n",
       "</div>"
      ],
      "text/plain": [
       "         postId  numberPhotos  \\\n",
       "0  6.002473e+09             3   \n",
       "1  6.044354e+09             2   \n",
       "\n",
       "                                              photos  \n",
       "0  [https://images.craigslist.org/00W0W_1BQvcKZae...  \n",
       "1  [https://images.craigslist.org/00P0P_3LANvZPBL...  "
      ]
     },
     "execution_count": 38,
     "metadata": {},
     "output_type": "execute_result"
    }
   ],
   "source": [
    "toto = annonces_photos[0:2]\n",
    "toto"
   ]
  },
  {
   "cell_type": "code",
   "execution_count": 78,
   "metadata": {
    "collapsed": false
   },
   "outputs": [
    {
     "name": "stdout",
     "output_type": "stream",
     "text": [
      "(0, postId                                                6.00247e+09\n",
      "numberPhotos                                                    3\n",
      "photos          [https://images.craigslist.org/00W0W_1BQvcKZae...\n",
      "Name: 0, dtype: object)\n"
     ]
    },
    {
     "ename": "TypeError",
     "evalue": "tuple indices must be integers or slices, not str",
     "output_type": "error",
     "traceback": [
      "\u001b[1;31m---------------------------------------------------------------------------\u001b[0m",
      "\u001b[1;31mTypeError\u001b[0m                                 Traceback (most recent call last)",
      "\u001b[1;32m<ipython-input-78-d54213b4880a>\u001b[0m in \u001b[0;36m<module>\u001b[1;34m()\u001b[0m\n\u001b[0;32m      1\u001b[0m \u001b[1;32mfor\u001b[0m \u001b[0mrow\u001b[0m \u001b[1;32min\u001b[0m \u001b[0mtoto\u001b[0m\u001b[1;33m.\u001b[0m\u001b[0miterrows\u001b[0m\u001b[1;33m(\u001b[0m\u001b[1;33m)\u001b[0m\u001b[1;33m:\u001b[0m\u001b[1;33m\u001b[0m\u001b[0m\n\u001b[0;32m      2\u001b[0m     \u001b[0mprint\u001b[0m\u001b[1;33m(\u001b[0m\u001b[0mrow\u001b[0m\u001b[1;33m)\u001b[0m\u001b[1;33m\u001b[0m\u001b[0m\n\u001b[1;32m----> 3\u001b[1;33m     \u001b[0mprint\u001b[0m\u001b[1;33m(\u001b[0m\u001b[0mint\u001b[0m\u001b[1;33m(\u001b[0m\u001b[0mrow\u001b[0m\u001b[1;33m[\u001b[0m\u001b[1;34m'postId'\u001b[0m\u001b[1;33m]\u001b[0m\u001b[1;33m)\u001b[0m\u001b[1;33m)\u001b[0m\u001b[1;33m\u001b[0m\u001b[0m\n\u001b[0m",
      "\u001b[1;31mTypeError\u001b[0m: tuple indices must be integers or slices, not str"
     ]
    }
   ],
   "source": [
    "for index, row in toto.iterrows():\n",
    "    print(row)\n",
    "    print(int(row['postId']))"
   ]
  },
  {
   "cell_type": "code",
   "execution_count": 66,
   "metadata": {
    "collapsed": false
   },
   "outputs": [
    {
     "data": {
      "text/plain": [
       "'id_00W0W_1BQvcKZaeiZ_600x450.jpg'"
      ]
     },
     "execution_count": 66,
     "metadata": {},
     "output_type": "execute_result"
    }
   ],
   "source": [
    "url = 'https://images.craigslist.org/00W0W_1BQvcKZaeiZ_600x450.jpg'\n",
    "file = 'id_'+url.split('images.craigslist.org/')[1]\n",
    "file"
   ]
  },
  {
   "cell_type": "code",
   "execution_count": 41,
   "metadata": {
    "collapsed": false
   },
   "outputs": [
    {
     "name": "stdout",
     "output_type": "stream",
     "text": [
      "https://images.craigslist.org/00W0W_1BQvcKZaeiZ_600x450.jpg\n",
      "https://images.craigslist.org/00Z0Z_ehVZ218Twhi_600x450.jpg\n",
      "https://images.craigslist.org/00z0z_jRoHfqvHY4Z_600x450.jpg\n"
     ]
    }
   ],
   "source": [
    "import scrapy\n",
    "from scrapy.piplines.images import ImagePipeline\n",
    "for url in toto['photos'][0]:\n",
    "    print (url)"
   ]
  },
  {
   "cell_type": "code",
   "execution_count": 42,
   "metadata": {
    "collapsed": true
   },
   "outputs": [],
   "source": [
    "result = scrapy.Request('https://images.craigslist.org/00W0W_1BQvcKZaeiZ_600x450.jpg')"
   ]
  },
  {
   "cell_type": "code",
   "execution_count": 48,
   "metadata": {
    "collapsed": false
   },
   "outputs": [
    {
     "data": {
      "text/plain": [
       "scrapy.http.request.Request"
      ]
     },
     "execution_count": 48,
     "metadata": {},
     "output_type": "execute_result"
    }
   ],
   "source": [
    "type(result)"
   ]
  },
  {
   "cell_type": "code",
   "execution_count": 49,
   "metadata": {
    "collapsed": false
   },
   "outputs": [
    {
     "data": {
      "text/plain": [
       "http.client.HTTPResponse"
      ]
     },
     "execution_count": 49,
     "metadata": {},
     "output_type": "execute_result"
    }
   ],
   "source": [
    "import urllib.request\n",
    "result = urllib.request.urlopen('https://images.craigslist.org/00W0W_1BQvcKZaeiZ_600x450.jpg')\n",
    "type(result)"
   ]
  },
  {
   "cell_type": "code",
   "execution_count": 122,
   "metadata": {
    "collapsed": false
   },
   "outputs": [],
   "source": [
    "def download_images(annonce, image_folder):\n",
    "    id = str(int(annonce['postId']))\n",
    "    print (\"Downloading %s ...\" %id)\n",
    "    urls = annonce['photos']\n",
    "    ok = True\n",
    "    for url in urls:\n",
    "        try:\n",
    "            result = urllib.request.urlopen(url)\n",
    "        except urllib.error.HTTPError as err:\n",
    "            print(\"Type error: \", err.code)\n",
    "            annonce['exist'] = 'False'\n",
    "            print(\"Annonce %s does not exist.\" %id)\n",
    "            ok = False\n",
    "        \n",
    "        if ok==True:    \n",
    "            image_path = os.path.join(image_folder, id+'_'+url.split('images.craigslist.org/')[1]) \n",
    "            if os.path.isfile(image_path):\n",
    "                print (\"Skipping existing file: \" , image_path)\n",
    "                continue\n",
    "            file = open(image_path, 'wb')\n",
    "            file.write(result.read())\n",
    "            file.close()\n",
    "            print(\"Done %s\" %image_path)\n",
    "    print(\"**********************************************\")"
   ]
  },
  {
   "cell_type": "code",
   "execution_count": 89,
   "metadata": {
    "collapsed": false
   },
   "outputs": [],
   "source": [
    "def get_annonces_photos(df):\n",
    "    image_folder = os.path.join(home, 'data/store/')\n",
    "    if not os.path.exists(image_folder):\n",
    "        os.makedirs(image_folder)\n",
    "    for index, row in df.iterrows():\n",
    "        download_images(row, image_folder)"
   ]
  },
  {
   "cell_type": "code",
   "execution_count": 83,
   "metadata": {
    "collapsed": false
   },
   "outputs": [
    {
     "name": "stdout",
     "output_type": "stream",
     "text": [
      "Downloading 6002472651 ...\n",
      "Done C:/Users/OPEN/Documents/NanZHAO/Projet CIR Fraude/data/store/6002472651_00W0W_1BQvcKZaeiZ_600x450.jpg\n",
      "Done C:/Users/OPEN/Documents/NanZHAO/Projet CIR Fraude/data/store/6002472651_00Z0Z_ehVZ218Twhi_600x450.jpg\n",
      "Done C:/Users/OPEN/Documents/NanZHAO/Projet CIR Fraude/data/store/6002472651_00z0z_jRoHfqvHY4Z_600x450.jpg\n",
      "**********************************************\n",
      "Downloading 6044353500 ...\n",
      "Done C:/Users/OPEN/Documents/NanZHAO/Projet CIR Fraude/data/store/6044353500_00P0P_3LANvZPBLYM_600x450.jpg\n",
      "Done C:/Users/OPEN/Documents/NanZHAO/Projet CIR Fraude/data/store/6044353500_00000_9UZBcqkihaP_600x450.jpg\n",
      "**********************************************\n"
     ]
    }
   ],
   "source": [
    "get_annonces_photos(toto)"
   ]
  },
  {
   "cell_type": "code",
   "execution_count": 87,
   "metadata": {
    "collapsed": false
   },
   "outputs": [
    {
     "name": "stdout",
     "output_type": "stream",
     "text": [
      "450 337 3\n",
      "450 337 3\n",
      "450 337 3\n",
      "450 253 3\n",
      "450 253 3\n"
     ]
    }
   ],
   "source": [
    "for image in os.listdir(os.path.join(home, 'data/store/')):\n",
    "    image = home + 'data/store/'+image\n",
    "    height, width, channels = scipy.ndimage.imread(image).shape\n",
    "    print(height, width, channels)"
   ]
  },
  {
   "cell_type": "code",
   "execution_count": 121,
   "metadata": {
    "collapsed": false
   },
   "outputs": [
    {
     "name": "stderr",
     "output_type": "stream",
     "text": [
      "C:\\Anaconda3\\lib\\site-packages\\pandas\\core\\indexing.py:465: SettingWithCopyWarning: \n",
      "A value is trying to be set on a copy of a slice from a DataFrame.\n",
      "Try using .loc[row_indexer,col_indexer] = value instead\n",
      "\n",
      "See the caveats in the documentation: http://pandas.pydata.org/pandas-docs/stable/indexing.html#indexing-view-versus-copy\n",
      "  self.obj[item] = s\n"
     ]
    },
    {
     "data": {
      "text/html": [
       "<div>\n",
       "<table border=\"1\" class=\"dataframe\">\n",
       "  <thead>\n",
       "    <tr style=\"text-align: right;\">\n",
       "      <th></th>\n",
       "      <th>postId</th>\n",
       "      <th>numberPhotos</th>\n",
       "      <th>photos</th>\n",
       "      <th>exist</th>\n",
       "    </tr>\n",
       "  </thead>\n",
       "  <tbody>\n",
       "    <tr>\n",
       "      <th>0</th>\n",
       "      <td>6.002473e+09</td>\n",
       "      <td>3</td>\n",
       "      <td>[https://images.craigslist.org/00W0W_1BQvcKZae...</td>\n",
       "      <td>True</td>\n",
       "    </tr>\n",
       "    <tr>\n",
       "      <th>1</th>\n",
       "      <td>6.044354e+09</td>\n",
       "      <td>2</td>\n",
       "      <td>[https://images.craigslist.org/00P0P_3LANvZPBL...</td>\n",
       "      <td>True</td>\n",
       "    </tr>\n",
       "    <tr>\n",
       "      <th>2</th>\n",
       "      <td>6.015487e+09</td>\n",
       "      <td>1</td>\n",
       "      <td>[https://images.craigslist.org/00g0g_Uv43A8fnJ...</td>\n",
       "      <td>True</td>\n",
       "    </tr>\n",
       "    <tr>\n",
       "      <th>3</th>\n",
       "      <td>6.040776e+09</td>\n",
       "      <td>23</td>\n",
       "      <td>[https://images.craigslist.org/00U0U_9x8p898kg...</td>\n",
       "      <td>True</td>\n",
       "    </tr>\n",
       "    <tr>\n",
       "      <th>4</th>\n",
       "      <td>5.951630e+09</td>\n",
       "      <td>1</td>\n",
       "      <td>[https://images.craigslist.org/00O0O_hxqOmT0Sf...</td>\n",
       "      <td>True</td>\n",
       "    </tr>\n",
       "  </tbody>\n",
       "</table>\n",
       "</div>"
      ],
      "text/plain": [
       "         postId  numberPhotos  \\\n",
       "0  6.002473e+09             3   \n",
       "1  6.044354e+09             2   \n",
       "2  6.015487e+09             1   \n",
       "3  6.040776e+09            23   \n",
       "4  5.951630e+09             1   \n",
       "\n",
       "                                              photos exist  \n",
       "0  [https://images.craigslist.org/00W0W_1BQvcKZae...  True  \n",
       "1  [https://images.craigslist.org/00P0P_3LANvZPBL...  True  \n",
       "2  [https://images.craigslist.org/00g0g_Uv43A8fnJ...  True  \n",
       "3  [https://images.craigslist.org/00U0U_9x8p898kg...  True  \n",
       "4  [https://images.craigslist.org/00O0O_hxqOmT0Sf...  True  "
      ]
     },
     "execution_count": 121,
     "metadata": {},
     "output_type": "execute_result"
    }
   ],
   "source": [
    "annonces_photos.loc[:,'exist'] = 'True'\n",
    "annonces_photos.head()"
   ]
  },
  {
   "cell_type": "code",
   "execution_count": 123,
   "metadata": {
    "collapsed": false,
    "scrolled": true
   },
   "outputs": [
    {
     "name": "stdout",
     "output_type": "stream",
     "text": [
      "Downloading 6002472651 ...\n",
      "Done C:/Users/OPEN/Documents/NanZHAO/Projet CIR Fraude/data/store/6002472651_00W0W_1BQvcKZaeiZ_600x450.jpg\n",
      "Done C:/Users/OPEN/Documents/NanZHAO/Projet CIR Fraude/data/store/6002472651_00Z0Z_ehVZ218Twhi_600x450.jpg\n",
      "Done C:/Users/OPEN/Documents/NanZHAO/Projet CIR Fraude/data/store/6002472651_00z0z_jRoHfqvHY4Z_600x450.jpg\n",
      "**********************************************\n",
      "Downloading 6044353500 ...\n",
      "Done C:/Users/OPEN/Documents/NanZHAO/Projet CIR Fraude/data/store/6044353500_00P0P_3LANvZPBLYM_600x450.jpg\n",
      "Done C:/Users/OPEN/Documents/NanZHAO/Projet CIR Fraude/data/store/6044353500_00000_9UZBcqkihaP_600x450.jpg\n",
      "**********************************************\n",
      "Downloading 6015487414 ...\n",
      "Done C:/Users/OPEN/Documents/NanZHAO/Projet CIR Fraude/data/store/6015487414_00g0g_Uv43A8fnJY_600x450.jpg\n",
      "**********************************************\n",
      "Downloading 6040775713 ...\n",
      "Done C:/Users/OPEN/Documents/NanZHAO/Projet CIR Fraude/data/store/6040775713_00U0U_9x8p898kgly_600x450.jpg\n",
      "Done C:/Users/OPEN/Documents/NanZHAO/Projet CIR Fraude/data/store/6040775713_00V0V_ja7iFqGoKoQ_600x450.jpg\n",
      "Done C:/Users/OPEN/Documents/NanZHAO/Projet CIR Fraude/data/store/6040775713_00j0j_c2EPMq1OYex_600x450.jpg\n",
      "Done C:/Users/OPEN/Documents/NanZHAO/Projet CIR Fraude/data/store/6040775713_00I0I_keZTkFzZ9O5_600x450.jpg\n",
      "Done C:/Users/OPEN/Documents/NanZHAO/Projet CIR Fraude/data/store/6040775713_00404_4Rn5812BA8o_600x450.jpg\n",
      "Done C:/Users/OPEN/Documents/NanZHAO/Projet CIR Fraude/data/store/6040775713_00d0d_c4g9eXeuzSD_600x450.jpg\n",
      "Done C:/Users/OPEN/Documents/NanZHAO/Projet CIR Fraude/data/store/6040775713_00m0m_h2NmCBnqOP9_600x450.jpg\n",
      "Done C:/Users/OPEN/Documents/NanZHAO/Projet CIR Fraude/data/store/6040775713_00Y0Y_5kjSOvoGBr3_600x450.jpg\n",
      "Done C:/Users/OPEN/Documents/NanZHAO/Projet CIR Fraude/data/store/6040775713_00Q0Q_jIyx4ClLyhq_600x450.jpg\n",
      "Done C:/Users/OPEN/Documents/NanZHAO/Projet CIR Fraude/data/store/6040775713_01515_dX97T2ksO0a_600x450.jpg\n",
      "Done C:/Users/OPEN/Documents/NanZHAO/Projet CIR Fraude/data/store/6040775713_00101_ggDDpaNnaxk_600x450.jpg\n",
      "Done C:/Users/OPEN/Documents/NanZHAO/Projet CIR Fraude/data/store/6040775713_00H0H_h7ikivkwUts_600x450.jpg\n",
      "Done C:/Users/OPEN/Documents/NanZHAO/Projet CIR Fraude/data/store/6040775713_00W0W_4wRSdtSRBGL_600x450.jpg\n",
      "Done C:/Users/OPEN/Documents/NanZHAO/Projet CIR Fraude/data/store/6040775713_00l0l_c25PokUtWmO_600x450.jpg\n",
      "Done C:/Users/OPEN/Documents/NanZHAO/Projet CIR Fraude/data/store/6040775713_00t0t_3nNbUpEniHy_600x450.jpg\n",
      "Done C:/Users/OPEN/Documents/NanZHAO/Projet CIR Fraude/data/store/6040775713_00I0I_lIeh17NI8XR_600x450.jpg\n",
      "Done C:/Users/OPEN/Documents/NanZHAO/Projet CIR Fraude/data/store/6040775713_00t0t_idik3g6eACM_600x450.jpg\n",
      "Done C:/Users/OPEN/Documents/NanZHAO/Projet CIR Fraude/data/store/6040775713_00000_512qwc4CYif_600x450.jpg\n",
      "Done C:/Users/OPEN/Documents/NanZHAO/Projet CIR Fraude/data/store/6040775713_00s0s_8oIQRQpp3kv_600x450.jpg\n",
      "Done C:/Users/OPEN/Documents/NanZHAO/Projet CIR Fraude/data/store/6040775713_01717_iD64pRayu2A_600x450.jpg\n",
      "Done C:/Users/OPEN/Documents/NanZHAO/Projet CIR Fraude/data/store/6040775713_00202_fTiMoYoPsxn_600x450.jpg\n",
      "Done C:/Users/OPEN/Documents/NanZHAO/Projet CIR Fraude/data/store/6040775713_00707_dfDaCVAgLV8_600x450.jpg\n",
      "Done C:/Users/OPEN/Documents/NanZHAO/Projet CIR Fraude/data/store/6040775713_00T0T_h37Z3zPlnpy_600x450.jpg\n",
      "**********************************************\n",
      "Downloading 5951630017 ...\n",
      "Type error:  404\n",
      "Annonce 5951630017 does not exist.\n",
      "**********************************************\n",
      "Downloading 6016491698 ...\n",
      "Done C:/Users/OPEN/Documents/NanZHAO/Projet CIR Fraude/data/store/6016491698_00909_71KFnbfdi_600x450.jpg\n",
      "Done C:/Users/OPEN/Documents/NanZHAO/Projet CIR Fraude/data/store/6016491698_00L0L_iy7GXA7GAq1_600x450.jpg\n",
      "Done C:/Users/OPEN/Documents/NanZHAO/Projet CIR Fraude/data/store/6016491698_00t0t_1XyUznJMQnj_600x450.jpg\n",
      "Done C:/Users/OPEN/Documents/NanZHAO/Projet CIR Fraude/data/store/6016491698_00B0B_e9WOLwwuNDD_600x450.jpg\n",
      "Done C:/Users/OPEN/Documents/NanZHAO/Projet CIR Fraude/data/store/6016491698_00s0s_6jCpQjDTcxt_600x450.jpg\n",
      "Done C:/Users/OPEN/Documents/NanZHAO/Projet CIR Fraude/data/store/6016491698_00b0b_agfxhTNFt3R_600x450.jpg\n",
      "Done C:/Users/OPEN/Documents/NanZHAO/Projet CIR Fraude/data/store/6016491698_00Z0Z_64ME0l5vIdt_600x450.jpg\n",
      "Done C:/Users/OPEN/Documents/NanZHAO/Projet CIR Fraude/data/store/6016491698_00u0u_4ddGsTLzEmP_600x450.jpg\n",
      "Done C:/Users/OPEN/Documents/NanZHAO/Projet CIR Fraude/data/store/6016491698_01515_4wFTX2yqiIb_600x450.jpg\n",
      "Done C:/Users/OPEN/Documents/NanZHAO/Projet CIR Fraude/data/store/6016491698_01515_jANpXvr01dL_600x450.jpg\n",
      "Done C:/Users/OPEN/Documents/NanZHAO/Projet CIR Fraude/data/store/6016491698_00G0G_6c1XycZerdT_600x450.jpg\n",
      "Done C:/Users/OPEN/Documents/NanZHAO/Projet CIR Fraude/data/store/6016491698_01414_3U2oXcf7jl7_600x450.jpg\n",
      "Done C:/Users/OPEN/Documents/NanZHAO/Projet CIR Fraude/data/store/6016491698_00000_ksIuyEwLjjY_600x450.jpg\n",
      "Done C:/Users/OPEN/Documents/NanZHAO/Projet CIR Fraude/data/store/6016491698_00Y0Y_c57pnA1lVG2_600x450.jpg\n",
      "Done C:/Users/OPEN/Documents/NanZHAO/Projet CIR Fraude/data/store/6016491698_00l0l_2PR3HTDvuNM_600x450.jpg\n",
      "Done C:/Users/OPEN/Documents/NanZHAO/Projet CIR Fraude/data/store/6016491698_00w0w_6hXsXW3WOIL_600x450.jpg\n",
      "Done C:/Users/OPEN/Documents/NanZHAO/Projet CIR Fraude/data/store/6016491698_00G0G_4PAMs8FUB3V_600x450.jpg\n",
      "Done C:/Users/OPEN/Documents/NanZHAO/Projet CIR Fraude/data/store/6016491698_00I0I_68FPn8dsEN8_600x450.jpg\n",
      "Done C:/Users/OPEN/Documents/NanZHAO/Projet CIR Fraude/data/store/6016491698_00I0I_8vYjvUzmN5r_600x450.jpg\n",
      "Done C:/Users/OPEN/Documents/NanZHAO/Projet CIR Fraude/data/store/6016491698_00303_eUs9iG7768L_600x450.jpg\n",
      "Done C:/Users/OPEN/Documents/NanZHAO/Projet CIR Fraude/data/store/6016491698_01212_l2rPiLzM8iv_600x450.jpg\n",
      "Done C:/Users/OPEN/Documents/NanZHAO/Projet CIR Fraude/data/store/6016491698_00t0t_3q3WRwUx9q8_600x450.jpg\n",
      "Done C:/Users/OPEN/Documents/NanZHAO/Projet CIR Fraude/data/store/6016491698_00404_i55cYXX5njc_600x450.jpg\n",
      "**********************************************\n",
      "Downloading 5988121212 ...\n",
      "Done C:/Users/OPEN/Documents/NanZHAO/Projet CIR Fraude/data/store/5988121212_00u0u_aHNaMkixuY_600x450.jpg\n",
      "**********************************************\n",
      "Downloading 6001384010 ...\n",
      "Done C:/Users/OPEN/Documents/NanZHAO/Projet CIR Fraude/data/store/6001384010_00A0A_7Twtk4nsotn_600x450.jpg\n",
      "Done C:/Users/OPEN/Documents/NanZHAO/Projet CIR Fraude/data/store/6001384010_00v0v_4NB4QubESrC_600x450.jpg\n",
      "Done C:/Users/OPEN/Documents/NanZHAO/Projet CIR Fraude/data/store/6001384010_00p0p_97L62Iz1zzi_600x450.jpg\n",
      "Done C:/Users/OPEN/Documents/NanZHAO/Projet CIR Fraude/data/store/6001384010_00y0y_fmdxMTVO6OS_600x450.jpg\n",
      "**********************************************\n",
      "Downloading 5996545220 ...\n",
      "Done C:/Users/OPEN/Documents/NanZHAO/Projet CIR Fraude/data/store/5996545220_00C0C_jH3CwE6Ubmp_600x450.jpg\n",
      "Done C:/Users/OPEN/Documents/NanZHAO/Projet CIR Fraude/data/store/5996545220_00u0u_i4yXdjHVUYr_600x450.jpg\n",
      "Done C:/Users/OPEN/Documents/NanZHAO/Projet CIR Fraude/data/store/5996545220_01111_5kYuF7ldtK0_600x450.jpg\n",
      "Done C:/Users/OPEN/Documents/NanZHAO/Projet CIR Fraude/data/store/5996545220_00n0n_cx91kZLSia7_600x450.jpg\n",
      "Done C:/Users/OPEN/Documents/NanZHAO/Projet CIR Fraude/data/store/5996545220_00O0O_2rg4UZjmtWg_600x450.jpg\n",
      "Done C:/Users/OPEN/Documents/NanZHAO/Projet CIR Fraude/data/store/5996545220_01111_1IbEdzXoYsb_600x450.jpg\n",
      "Done C:/Users/OPEN/Documents/NanZHAO/Projet CIR Fraude/data/store/5996545220_00I0I_2TqJ60trJ0t_600x450.jpg\n",
      "Done C:/Users/OPEN/Documents/NanZHAO/Projet CIR Fraude/data/store/5996545220_00Q0Q_gTq8XvXt1h6_600x450.jpg\n",
      "Done C:/Users/OPEN/Documents/NanZHAO/Projet CIR Fraude/data/store/5996545220_00t0t_Cd4vjQu3j7_600x450.jpg\n",
      "Done C:/Users/OPEN/Documents/NanZHAO/Projet CIR Fraude/data/store/5996545220_00z0z_e4LEK4IJqJw_600x450.jpg\n",
      "**********************************************\n",
      "Downloading 6006474247 ...\n",
      "Done C:/Users/OPEN/Documents/NanZHAO/Projet CIR Fraude/data/store/6006474247_00O0O_kKznB6GMOIl_600x450.jpg\n",
      "**********************************************\n",
      "Downloading 6003718557 ...\n",
      "Done C:/Users/OPEN/Documents/NanZHAO/Projet CIR Fraude/data/store/6003718557_00808_6X5qlFUcaxW_600x450.jpg\n",
      "Done C:/Users/OPEN/Documents/NanZHAO/Projet CIR Fraude/data/store/6003718557_00d0d_jCcLecyaBET_600x450.jpg\n",
      "Done C:/Users/OPEN/Documents/NanZHAO/Projet CIR Fraude/data/store/6003718557_00L0L_68d7PHaVQGE_600x450.jpg\n",
      "Done C:/Users/OPEN/Documents/NanZHAO/Projet CIR Fraude/data/store/6003718557_00101_fQx2230DP7p_600x450.jpg\n",
      "Done C:/Users/OPEN/Documents/NanZHAO/Projet CIR Fraude/data/store/6003718557_00X0X_u7NeiBWPRz_600x450.jpg\n",
      "Done C:/Users/OPEN/Documents/NanZHAO/Projet CIR Fraude/data/store/6003718557_00c0c_fJB5VeusyDz_600x450.jpg\n",
      "Done C:/Users/OPEN/Documents/NanZHAO/Projet CIR Fraude/data/store/6003718557_01010_hPvY5XZlqDV_600x450.jpg\n",
      "Done C:/Users/OPEN/Documents/NanZHAO/Projet CIR Fraude/data/store/6003718557_00c0c_mzBFKmHmdK_600x450.jpg\n",
      "Done C:/Users/OPEN/Documents/NanZHAO/Projet CIR Fraude/data/store/6003718557_00000_c12o5L5xPFZ_600x450.jpg\n",
      "Done C:/Users/OPEN/Documents/NanZHAO/Projet CIR Fraude/data/store/6003718557_01515_f9YU3KArhMe_600x450.jpg\n",
      "Done C:/Users/OPEN/Documents/NanZHAO/Projet CIR Fraude/data/store/6003718557_00505_4bEf5QF2WAi_600x450.jpg\n",
      "Done C:/Users/OPEN/Documents/NanZHAO/Projet CIR Fraude/data/store/6003718557_00o0o_fBdnMo3G3AD_600x450.jpg\n",
      "Done C:/Users/OPEN/Documents/NanZHAO/Projet CIR Fraude/data/store/6003718557_00707_5sGFc4RKBxX_600x450.jpg\n",
      "Done C:/Users/OPEN/Documents/NanZHAO/Projet CIR Fraude/data/store/6003718557_00e0e_bqblQUbN6xT_600x450.jpg\n",
      "Done C:/Users/OPEN/Documents/NanZHAO/Projet CIR Fraude/data/store/6003718557_00Z0Z_fyc7hkKv1kR_600x450.jpg\n",
      "Done C:/Users/OPEN/Documents/NanZHAO/Projet CIR Fraude/data/store/6003718557_01111_b2zWC6WuwyE_600x450.jpg\n",
      "Done C:/Users/OPEN/Documents/NanZHAO/Projet CIR Fraude/data/store/6003718557_01414_4wS9gj15lYx_600x450.jpg\n",
      "Done C:/Users/OPEN/Documents/NanZHAO/Projet CIR Fraude/data/store/6003718557_01212_kHHKFRnlQhF_600x450.jpg\n",
      "Done C:/Users/OPEN/Documents/NanZHAO/Projet CIR Fraude/data/store/6003718557_00K0K_bN84hSBkR1m_600x450.jpg\n",
      "Done C:/Users/OPEN/Documents/NanZHAO/Projet CIR Fraude/data/store/6003718557_00z0z_28W2lKyP9yM_600x450.jpg\n",
      "Done C:/Users/OPEN/Documents/NanZHAO/Projet CIR Fraude/data/store/6003718557_01616_iTdefDqk0Kz_600x450.jpg\n",
      "Done C:/Users/OPEN/Documents/NanZHAO/Projet CIR Fraude/data/store/6003718557_01616_cqPEwlqmFMR_600x450.jpg\n",
      "Done C:/Users/OPEN/Documents/NanZHAO/Projet CIR Fraude/data/store/6003718557_00P0P_9V7Oe8WkucT_600x450.jpg\n",
      "**********************************************\n",
      "Downloading 6006411329 ...\n",
      "Done C:/Users/OPEN/Documents/NanZHAO/Projet CIR Fraude/data/store/6006411329_00e0e_92IHy5Vuxad_600x450.jpg\n",
      "Done C:/Users/OPEN/Documents/NanZHAO/Projet CIR Fraude/data/store/6006411329_00F0F_3FSRhai9xqQ_600x450.jpg\n",
      "Done C:/Users/OPEN/Documents/NanZHAO/Projet CIR Fraude/data/store/6006411329_00b0b_5vFJ1IsB1Bz_600x450.jpg\n",
      "Done C:/Users/OPEN/Documents/NanZHAO/Projet CIR Fraude/data/store/6006411329_00P0P_eDib7st3SzJ_600x450.jpg\n",
      "Done C:/Users/OPEN/Documents/NanZHAO/Projet CIR Fraude/data/store/6006411329_00Y0Y_8PjS9A77pma_600x450.jpg\n",
      "Done C:/Users/OPEN/Documents/NanZHAO/Projet CIR Fraude/data/store/6006411329_00n0n_g19O7G3W6jb_600x450.jpg\n",
      "Done C:/Users/OPEN/Documents/NanZHAO/Projet CIR Fraude/data/store/6006411329_00s0s_a6dTq5JlhT7_600x450.jpg\n",
      "Done C:/Users/OPEN/Documents/NanZHAO/Projet CIR Fraude/data/store/6006411329_00707_8Rw0ohZhST9_600x450.jpg\n",
      "Done C:/Users/OPEN/Documents/NanZHAO/Projet CIR Fraude/data/store/6006411329_00808_6xLhybIHygP_600x450.jpg\n",
      "Done C:/Users/OPEN/Documents/NanZHAO/Projet CIR Fraude/data/store/6006411329_01313_4YMNPEm0yAU_600x450.jpg\n",
      "Done C:/Users/OPEN/Documents/NanZHAO/Projet CIR Fraude/data/store/6006411329_00000_l8VEH6SbKRU_600x450.jpg\n",
      "Done C:/Users/OPEN/Documents/NanZHAO/Projet CIR Fraude/data/store/6006411329_00g0g_b9lV23TAeXd_600x450.jpg\n",
      "Done C:/Users/OPEN/Documents/NanZHAO/Projet CIR Fraude/data/store/6006411329_00z0z_bcS2qtJI3ax_600x450.jpg\n",
      "Done C:/Users/OPEN/Documents/NanZHAO/Projet CIR Fraude/data/store/6006411329_00v0v_b4RKjnn6fH9_600x450.jpg\n",
      "Done C:/Users/OPEN/Documents/NanZHAO/Projet CIR Fraude/data/store/6006411329_00K0K_dKYCh5fEQAN_600x450.jpg\n",
      "Done C:/Users/OPEN/Documents/NanZHAO/Projet CIR Fraude/data/store/6006411329_00606_9o9JGUmFRFo_600x450.jpg\n",
      "Done C:/Users/OPEN/Documents/NanZHAO/Projet CIR Fraude/data/store/6006411329_00202_hHVbwo7vjQv_600x450.jpg\n",
      "Done C:/Users/OPEN/Documents/NanZHAO/Projet CIR Fraude/data/store/6006411329_00y0y_go1bdm6mJiU_600x450.jpg\n",
      "Done C:/Users/OPEN/Documents/NanZHAO/Projet CIR Fraude/data/store/6006411329_00606_hZqkIIrX8Jc_600x450.jpg\n",
      "Done C:/Users/OPEN/Documents/NanZHAO/Projet CIR Fraude/data/store/6006411329_00707_7Z90mvN7jFU_600x450.jpg\n",
      "Done C:/Users/OPEN/Documents/NanZHAO/Projet CIR Fraude/data/store/6006411329_00u0u_6gzNVXubjDp_600x450.jpg\n",
      "Done C:/Users/OPEN/Documents/NanZHAO/Projet CIR Fraude/data/store/6006411329_00202_2Vjphdzq7pm_600x450.jpg\n",
      "Done C:/Users/OPEN/Documents/NanZHAO/Projet CIR Fraude/data/store/6006411329_00t0t_kN3eRBX6Atf_600x450.jpg\n",
      "**********************************************\n",
      "Downloading 5998419275 ...\n",
      "Done C:/Users/OPEN/Documents/NanZHAO/Projet CIR Fraude/data/store/5998419275_00p0p_957Optij04I_600x450.jpg\n",
      "Done C:/Users/OPEN/Documents/NanZHAO/Projet CIR Fraude/data/store/5998419275_00505_2y5IrDu9wdI_600x450.jpg\n",
      "Done C:/Users/OPEN/Documents/NanZHAO/Projet CIR Fraude/data/store/5998419275_00K0K_cKOOBZ1sbIB_600x450.jpg\n",
      "**********************************************\n",
      "Downloading 5969236341 ...\n",
      "Done C:/Users/OPEN/Documents/NanZHAO/Projet CIR Fraude/data/store/5969236341_00L0L_9zl8afYSUn8_600x450.jpg\n",
      "Done C:/Users/OPEN/Documents/NanZHAO/Projet CIR Fraude/data/store/5969236341_01111_ct5h9W1SYt6_600x450.jpg\n",
      "Done C:/Users/OPEN/Documents/NanZHAO/Projet CIR Fraude/data/store/5969236341_00e0e_1UsclBV9Fen_600x450.jpg\n",
      "Done C:/Users/OPEN/Documents/NanZHAO/Projet CIR Fraude/data/store/5969236341_00i0i_5fiK76q4tW4_600x450.jpg\n",
      "Done C:/Users/OPEN/Documents/NanZHAO/Projet CIR Fraude/data/store/5969236341_00L0L_2vCd1ad7urM_600x450.jpg\n",
      "**********************************************\n",
      "Downloading 5991359293 ...\n",
      "Done C:/Users/OPEN/Documents/NanZHAO/Projet CIR Fraude/data/store/5991359293_01515_lzzntokLfJH_600x450.jpg\n",
      "Done C:/Users/OPEN/Documents/NanZHAO/Projet CIR Fraude/data/store/5991359293_00i0i_7iNub6LwYJ6_600x450.jpg\n",
      "**********************************************\n",
      "Downloading 6014768557 ...\n",
      "Done C:/Users/OPEN/Documents/NanZHAO/Projet CIR Fraude/data/store/6014768557_00h0h_8UruUDp3ifC_600x450.jpg\n",
      "**********************************************\n",
      "Downloading 6017916979 ...\n",
      "Done C:/Users/OPEN/Documents/NanZHAO/Projet CIR Fraude/data/store/6017916979_00000_6Yqh0H03HHd_600x450.jpg\n",
      "Done C:/Users/OPEN/Documents/NanZHAO/Projet CIR Fraude/data/store/6017916979_00404_eJFSgRUS4mV_600x450.jpg\n",
      "Done C:/Users/OPEN/Documents/NanZHAO/Projet CIR Fraude/data/store/6017916979_00F0F_2S83GxO66KS_600x450.jpg\n",
      "Done C:/Users/OPEN/Documents/NanZHAO/Projet CIR Fraude/data/store/6017916979_00G0G_ia3cuW6gEfJ_600x450.jpg\n",
      "Done C:/Users/OPEN/Documents/NanZHAO/Projet CIR Fraude/data/store/6017916979_00K0K_6AxdowOhAnp_600x450.jpg\n",
      "Done C:/Users/OPEN/Documents/NanZHAO/Projet CIR Fraude/data/store/6017916979_00x0x_lm0IFZUC2RQ_600x450.jpg\n",
      "Done C:/Users/OPEN/Documents/NanZHAO/Projet CIR Fraude/data/store/6017916979_00707_aT40NWDtZ7l_600x450.jpg\n",
      "Done C:/Users/OPEN/Documents/NanZHAO/Projet CIR Fraude/data/store/6017916979_00U0U_c81C9QwTLgD_600x450.jpg\n",
      "Done C:/Users/OPEN/Documents/NanZHAO/Projet CIR Fraude/data/store/6017916979_01414_5lKoB1fOBHb_600x450.jpg\n",
      "Done C:/Users/OPEN/Documents/NanZHAO/Projet CIR Fraude/data/store/6017916979_00U0U_8wh6gme65Ik_600x450.jpg\n",
      "Done C:/Users/OPEN/Documents/NanZHAO/Projet CIR Fraude/data/store/6017916979_00i0i_lXaTNDw77lC_600x450.jpg\n",
      "Done C:/Users/OPEN/Documents/NanZHAO/Projet CIR Fraude/data/store/6017916979_00q0q_cxv0QqRsRE9_600x450.jpg\n",
      "Done C:/Users/OPEN/Documents/NanZHAO/Projet CIR Fraude/data/store/6017916979_00f0f_cgjvRrAUnlN_600x450.jpg\n",
      "Done C:/Users/OPEN/Documents/NanZHAO/Projet CIR Fraude/data/store/6017916979_00b0b_cusrPZnORW6_600x450.jpg\n",
      "Done C:/Users/OPEN/Documents/NanZHAO/Projet CIR Fraude/data/store/6017916979_00404_jGls3UPcRHl_600x450.jpg\n",
      "Done C:/Users/OPEN/Documents/NanZHAO/Projet CIR Fraude/data/store/6017916979_00m0m_3JX7PRFhOJM_600x450.jpg\n",
      "Done C:/Users/OPEN/Documents/NanZHAO/Projet CIR Fraude/data/store/6017916979_00S0S_j0FNWMeU6G6_600x450.jpg\n",
      "Done C:/Users/OPEN/Documents/NanZHAO/Projet CIR Fraude/data/store/6017916979_00c0c_bqHda9mdvL8_600x450.jpg\n",
      "Done C:/Users/OPEN/Documents/NanZHAO/Projet CIR Fraude/data/store/6017916979_00l0l_gKi28oSVFPg_600x450.jpg\n",
      "Done C:/Users/OPEN/Documents/NanZHAO/Projet CIR Fraude/data/store/6017916979_00X0X_j5IMzmmvgGL_600x450.jpg\n",
      "Done C:/Users/OPEN/Documents/NanZHAO/Projet CIR Fraude/data/store/6017916979_00k0k_kcBTw4cl5CO_600x450.jpg\n",
      "Done C:/Users/OPEN/Documents/NanZHAO/Projet CIR Fraude/data/store/6017916979_00x0x_cCYANg8bsiR_600x450.jpg\n",
      "Done C:/Users/OPEN/Documents/NanZHAO/Projet CIR Fraude/data/store/6017916979_00M0M_fYB2OLtJO53_600x450.jpg\n",
      "**********************************************\n",
      "Downloading 6001363321 ...\n",
      "Done C:/Users/OPEN/Documents/NanZHAO/Projet CIR Fraude/data/store/6001363321_00B0B_60RchY7ixUi_600x450.jpg\n",
      "Done C:/Users/OPEN/Documents/NanZHAO/Projet CIR Fraude/data/store/6001363321_00x0x_i8FHMyqTCWP_600x450.jpg\n",
      "Done C:/Users/OPEN/Documents/NanZHAO/Projet CIR Fraude/data/store/6001363321_00C0C_jSFf84o3A33_600x450.jpg\n",
      "Done C:/Users/OPEN/Documents/NanZHAO/Projet CIR Fraude/data/store/6001363321_00707_7dEqjOmAP2_600x450.jpg\n",
      "**********************************************\n",
      "Downloading 6020603429 ...\n",
      "Done C:/Users/OPEN/Documents/NanZHAO/Projet CIR Fraude/data/store/6020603429_00909_gkKFbHARSXy_600x450.jpg\n",
      "Done C:/Users/OPEN/Documents/NanZHAO/Projet CIR Fraude/data/store/6020603429_00c0c_dNohwyb9i0P_600x450.jpg\n",
      "Done C:/Users/OPEN/Documents/NanZHAO/Projet CIR Fraude/data/store/6020603429_00H0H_1Gw8I9MG06a_600x450.jpg\n",
      "Done C:/Users/OPEN/Documents/NanZHAO/Projet CIR Fraude/data/store/6020603429_00808_cp0tKxqm4Co_600x450.jpg\n",
      "Done C:/Users/OPEN/Documents/NanZHAO/Projet CIR Fraude/data/store/6020603429_00y0y_gpC1zBAc0aZ_600x450.jpg\n",
      "Done C:/Users/OPEN/Documents/NanZHAO/Projet CIR Fraude/data/store/6020603429_00O0O_esthJ5UtMqA_600x450.jpg\n",
      "Done C:/Users/OPEN/Documents/NanZHAO/Projet CIR Fraude/data/store/6020603429_00Z0Z_5BorWg1OxsS_600x450.jpg\n",
      "Done C:/Users/OPEN/Documents/NanZHAO/Projet CIR Fraude/data/store/6020603429_00o0o_5a0XmzItxwU_600x450.jpg\n",
      "Done C:/Users/OPEN/Documents/NanZHAO/Projet CIR Fraude/data/store/6020603429_01111_bRBxUtSm3gn_600x450.jpg\n",
      "Done C:/Users/OPEN/Documents/NanZHAO/Projet CIR Fraude/data/store/6020603429_00s0s_h68i223GzKr_600x450.jpg\n",
      "Done C:/Users/OPEN/Documents/NanZHAO/Projet CIR Fraude/data/store/6020603429_00q0q_d9l7tWYo7nO_600x450.jpg\n",
      "Done C:/Users/OPEN/Documents/NanZHAO/Projet CIR Fraude/data/store/6020603429_00707_fCCe0Tx6I5p_600x450.jpg\n",
      "Done C:/Users/OPEN/Documents/NanZHAO/Projet CIR Fraude/data/store/6020603429_00k0k_dj6BhefsCSp_600x450.jpg\n",
      "Done C:/Users/OPEN/Documents/NanZHAO/Projet CIR Fraude/data/store/6020603429_00202_8l5AhUjiCR5_600x450.jpg\n",
      "Done C:/Users/OPEN/Documents/NanZHAO/Projet CIR Fraude/data/store/6020603429_00I0I_2CIjEUqdK5y_600x450.jpg\n",
      "Done C:/Users/OPEN/Documents/NanZHAO/Projet CIR Fraude/data/store/6020603429_00A0A_fygBnVBAPF4_600x450.jpg\n",
      "Done C:/Users/OPEN/Documents/NanZHAO/Projet CIR Fraude/data/store/6020603429_00R0R_8Ttev3A8SAJ_600x450.jpg\n",
      "Done C:/Users/OPEN/Documents/NanZHAO/Projet CIR Fraude/data/store/6020603429_00b0b_4rExbfEIgF4_600x450.jpg\n",
      "Done C:/Users/OPEN/Documents/NanZHAO/Projet CIR Fraude/data/store/6020603429_01313_as4JBvawHHl_600x450.jpg\n",
      "Done C:/Users/OPEN/Documents/NanZHAO/Projet CIR Fraude/data/store/6020603429_00101_d6ZGf0Dsxv8_600x450.jpg\n",
      "Done C:/Users/OPEN/Documents/NanZHAO/Projet CIR Fraude/data/store/6020603429_00E0E_jRk0EKHbcJv_600x450.jpg\n",
      "Done C:/Users/OPEN/Documents/NanZHAO/Projet CIR Fraude/data/store/6020603429_00i0i_ljvxomp2fel_600x450.jpg\n",
      "Done C:/Users/OPEN/Documents/NanZHAO/Projet CIR Fraude/data/store/6020603429_00707_l8orU3zbpx2_600x450.jpg\n",
      "**********************************************\n",
      "Downloading 6015077854 ...\n",
      "Done C:/Users/OPEN/Documents/NanZHAO/Projet CIR Fraude/data/store/6015077854_00j0j_h8C7XN0CfHl_600x450.jpg\n",
      "Done C:/Users/OPEN/Documents/NanZHAO/Projet CIR Fraude/data/store/6015077854_00T0T_aWWBzk6qtFH_600x450.jpg\n",
      "Done C:/Users/OPEN/Documents/NanZHAO/Projet CIR Fraude/data/store/6015077854_00o0o_9d3A122ny3U_600x450.jpg\n",
      "Done C:/Users/OPEN/Documents/NanZHAO/Projet CIR Fraude/data/store/6015077854_01111_i5eLJMWOYuJ_600x450.jpg\n",
      "Done C:/Users/OPEN/Documents/NanZHAO/Projet CIR Fraude/data/store/6015077854_00Y0Y_dgjYvLmlHlS_600x450.jpg\n",
      "Done C:/Users/OPEN/Documents/NanZHAO/Projet CIR Fraude/data/store/6015077854_00202_5MW9kPG2CXQ_600x450.jpg\n",
      "Done C:/Users/OPEN/Documents/NanZHAO/Projet CIR Fraude/data/store/6015077854_00Z0Z_hiCzvXg2qCx_600x450.jpg\n",
      "Done C:/Users/OPEN/Documents/NanZHAO/Projet CIR Fraude/data/store/6015077854_00f0f_cFavn1JDEcX_600x450.jpg\n",
      "Done C:/Users/OPEN/Documents/NanZHAO/Projet CIR Fraude/data/store/6015077854_00202_a0jcPDx5Hso_600x450.jpg\n",
      "Done C:/Users/OPEN/Documents/NanZHAO/Projet CIR Fraude/data/store/6015077854_00V0V_lEHa2QbJt17_600x450.jpg\n",
      "Done C:/Users/OPEN/Documents/NanZHAO/Projet CIR Fraude/data/store/6015077854_00g0g_d8hw6kRyM8h_600x450.jpg\n",
      "Done C:/Users/OPEN/Documents/NanZHAO/Projet CIR Fraude/data/store/6015077854_01010_6de2OyEhyiL_600x450.jpg\n",
      "Done C:/Users/OPEN/Documents/NanZHAO/Projet CIR Fraude/data/store/6015077854_00202_c00WEa6fwHU_600x450.jpg\n",
      "Done C:/Users/OPEN/Documents/NanZHAO/Projet CIR Fraude/data/store/6015077854_00X0X_lpLbogfqj58_600x450.jpg\n",
      "Done C:/Users/OPEN/Documents/NanZHAO/Projet CIR Fraude/data/store/6015077854_00p0p_e3QiXAq5taL_600x450.jpg\n",
      "Done C:/Users/OPEN/Documents/NanZHAO/Projet CIR Fraude/data/store/6015077854_00Z0Z_2Or1nZAC8Fl_600x450.jpg\n",
      "Done C:/Users/OPEN/Documents/NanZHAO/Projet CIR Fraude/data/store/6015077854_00l0l_exuoRdyF6uf_600x450.jpg\n",
      "Done C:/Users/OPEN/Documents/NanZHAO/Projet CIR Fraude/data/store/6015077854_00H0H_k2qVNEOg2Yg_600x450.jpg\n",
      "Done C:/Users/OPEN/Documents/NanZHAO/Projet CIR Fraude/data/store/6015077854_00o0o_hwlA05lyNK2_600x450.jpg\n",
      "Done C:/Users/OPEN/Documents/NanZHAO/Projet CIR Fraude/data/store/6015077854_00303_4tg7lsIS9ej_600x450.jpg\n",
      "Done C:/Users/OPEN/Documents/NanZHAO/Projet CIR Fraude/data/store/6015077854_00h0h_d3rBRP2ZFt_600x450.jpg\n",
      "Done C:/Users/OPEN/Documents/NanZHAO/Projet CIR Fraude/data/store/6015077854_00d0d_1xcmXyXR9U0_600x450.jpg\n",
      "Done C:/Users/OPEN/Documents/NanZHAO/Projet CIR Fraude/data/store/6015077854_01616_a76gpPMONK_600x450.jpg\n",
      "**********************************************\n",
      "Downloading 6022096865 ...\n",
      "Done C:/Users/OPEN/Documents/NanZHAO/Projet CIR Fraude/data/store/6022096865_00B0B_gdipylIIGyz_600x450.jpg\n",
      "Done C:/Users/OPEN/Documents/NanZHAO/Projet CIR Fraude/data/store/6022096865_00A0A_kHkqBI3L9YT_600x450.jpg\n",
      "Done C:/Users/OPEN/Documents/NanZHAO/Projet CIR Fraude/data/store/6022096865_00y0y_gggUPpYXy1p_600x450.jpg\n",
      "Done C:/Users/OPEN/Documents/NanZHAO/Projet CIR Fraude/data/store/6022096865_00M0M_1stRaPTHkPU_600x450.jpg\n",
      "Done C:/Users/OPEN/Documents/NanZHAO/Projet CIR Fraude/data/store/6022096865_00J0J_1EQo5a1Dw5A_600x450.jpg\n",
      "Done C:/Users/OPEN/Documents/NanZHAO/Projet CIR Fraude/data/store/6022096865_00q0q_gDxF9cP18I9_600x450.jpg\n",
      "Done C:/Users/OPEN/Documents/NanZHAO/Projet CIR Fraude/data/store/6022096865_01515_c6qJHvP8LPf_600x450.jpg\n",
      "Done C:/Users/OPEN/Documents/NanZHAO/Projet CIR Fraude/data/store/6022096865_00e0e_ljxb63jRcAK_600x450.jpg\n",
      "Done C:/Users/OPEN/Documents/NanZHAO/Projet CIR Fraude/data/store/6022096865_01616_k7V7pIUMslW_600x450.jpg\n",
      "Done C:/Users/OPEN/Documents/NanZHAO/Projet CIR Fraude/data/store/6022096865_01717_iPcyENsjAPG_600x450.jpg\n",
      "Done C:/Users/OPEN/Documents/NanZHAO/Projet CIR Fraude/data/store/6022096865_00909_1IDzFawzgid_600x450.jpg\n",
      "Done C:/Users/OPEN/Documents/NanZHAO/Projet CIR Fraude/data/store/6022096865_00m0m_4RkfRotSU6t_600x450.jpg\n",
      "Done C:/Users/OPEN/Documents/NanZHAO/Projet CIR Fraude/data/store/6022096865_00505_gL1M4b2o1M9_600x450.jpg\n",
      "Done C:/Users/OPEN/Documents/NanZHAO/Projet CIR Fraude/data/store/6022096865_00Q0Q_7khRNIo9qKv_600x450.jpg\n",
      "Done C:/Users/OPEN/Documents/NanZHAO/Projet CIR Fraude/data/store/6022096865_00I0I_ivT4LyHAzWH_600x450.jpg\n",
      "Done C:/Users/OPEN/Documents/NanZHAO/Projet CIR Fraude/data/store/6022096865_00707_3lSnGykypE5_600x450.jpg\n",
      "Done C:/Users/OPEN/Documents/NanZHAO/Projet CIR Fraude/data/store/6022096865_00Z0Z_6BqKVPi03MV_600x450.jpg\n",
      "Done C:/Users/OPEN/Documents/NanZHAO/Projet CIR Fraude/data/store/6022096865_00o0o_6qlZYf3jJMx_600x450.jpg\n",
      "Done C:/Users/OPEN/Documents/NanZHAO/Projet CIR Fraude/data/store/6022096865_00N0N_bIISvKEaSu5_600x450.jpg\n",
      "Done C:/Users/OPEN/Documents/NanZHAO/Projet CIR Fraude/data/store/6022096865_00p0p_2VmKGBj7COW_600x450.jpg\n",
      "Done C:/Users/OPEN/Documents/NanZHAO/Projet CIR Fraude/data/store/6022096865_00v0v_8cGShgkDyNk_600x450.jpg\n"
     ]
    },
    {
     "ename": "URLError",
     "evalue": "<urlopen error [WinError 10060] Une tentative de connexion a échoué car le parti connecté n’a pas répondu convenablement au-delà d’une certaine durée ou une connexion établie a échoué car l’hôte de connexion n’a pas répondu>",
     "output_type": "error",
     "traceback": [
      "\u001b[1;31m---------------------------------------------------------------------------\u001b[0m",
      "\u001b[1;31mTimeoutError\u001b[0m                              Traceback (most recent call last)",
      "\u001b[1;32mC:\\Anaconda3\\lib\\urllib\\request.py\u001b[0m in \u001b[0;36mdo_open\u001b[1;34m(self, http_class, req, **http_conn_args)\u001b[0m\n\u001b[0;32m   1253\u001b[0m             \u001b[1;32mtry\u001b[0m\u001b[1;33m:\u001b[0m\u001b[1;33m\u001b[0m\u001b[0m\n\u001b[1;32m-> 1254\u001b[1;33m                 \u001b[0mh\u001b[0m\u001b[1;33m.\u001b[0m\u001b[0mrequest\u001b[0m\u001b[1;33m(\u001b[0m\u001b[0mreq\u001b[0m\u001b[1;33m.\u001b[0m\u001b[0mget_method\u001b[0m\u001b[1;33m(\u001b[0m\u001b[1;33m)\u001b[0m\u001b[1;33m,\u001b[0m \u001b[0mreq\u001b[0m\u001b[1;33m.\u001b[0m\u001b[0mselector\u001b[0m\u001b[1;33m,\u001b[0m \u001b[0mreq\u001b[0m\u001b[1;33m.\u001b[0m\u001b[0mdata\u001b[0m\u001b[1;33m,\u001b[0m \u001b[0mheaders\u001b[0m\u001b[1;33m)\u001b[0m\u001b[1;33m\u001b[0m\u001b[0m\n\u001b[0m\u001b[0;32m   1255\u001b[0m             \u001b[1;32mexcept\u001b[0m \u001b[0mOSError\u001b[0m \u001b[1;32mas\u001b[0m \u001b[0merr\u001b[0m\u001b[1;33m:\u001b[0m \u001b[1;31m# timeout error\u001b[0m\u001b[1;33m\u001b[0m\u001b[0m\n",
      "\u001b[1;32mC:\\Anaconda3\\lib\\http\\client.py\u001b[0m in \u001b[0;36mrequest\u001b[1;34m(self, method, url, body, headers)\u001b[0m\n\u001b[0;32m   1105\u001b[0m         \u001b[1;34m\"\"\"Send a complete request to the server.\"\"\"\u001b[0m\u001b[1;33m\u001b[0m\u001b[0m\n\u001b[1;32m-> 1106\u001b[1;33m         \u001b[0mself\u001b[0m\u001b[1;33m.\u001b[0m\u001b[0m_send_request\u001b[0m\u001b[1;33m(\u001b[0m\u001b[0mmethod\u001b[0m\u001b[1;33m,\u001b[0m \u001b[0murl\u001b[0m\u001b[1;33m,\u001b[0m \u001b[0mbody\u001b[0m\u001b[1;33m,\u001b[0m \u001b[0mheaders\u001b[0m\u001b[1;33m)\u001b[0m\u001b[1;33m\u001b[0m\u001b[0m\n\u001b[0m\u001b[0;32m   1107\u001b[0m \u001b[1;33m\u001b[0m\u001b[0m\n",
      "\u001b[1;32mC:\\Anaconda3\\lib\\http\\client.py\u001b[0m in \u001b[0;36m_send_request\u001b[1;34m(self, method, url, body, headers)\u001b[0m\n\u001b[0;32m   1150\u001b[0m             \u001b[0mbody\u001b[0m \u001b[1;33m=\u001b[0m \u001b[0m_encode\u001b[0m\u001b[1;33m(\u001b[0m\u001b[0mbody\u001b[0m\u001b[1;33m,\u001b[0m \u001b[1;34m'body'\u001b[0m\u001b[1;33m)\u001b[0m\u001b[1;33m\u001b[0m\u001b[0m\n\u001b[1;32m-> 1151\u001b[1;33m         \u001b[0mself\u001b[0m\u001b[1;33m.\u001b[0m\u001b[0mendheaders\u001b[0m\u001b[1;33m(\u001b[0m\u001b[0mbody\u001b[0m\u001b[1;33m)\u001b[0m\u001b[1;33m\u001b[0m\u001b[0m\n\u001b[0m\u001b[0;32m   1152\u001b[0m \u001b[1;33m\u001b[0m\u001b[0m\n",
      "\u001b[1;32mC:\\Anaconda3\\lib\\http\\client.py\u001b[0m in \u001b[0;36mendheaders\u001b[1;34m(self, message_body)\u001b[0m\n\u001b[0;32m   1101\u001b[0m             \u001b[1;32mraise\u001b[0m \u001b[0mCannotSendHeader\u001b[0m\u001b[1;33m(\u001b[0m\u001b[1;33m)\u001b[0m\u001b[1;33m\u001b[0m\u001b[0m\n\u001b[1;32m-> 1102\u001b[1;33m         \u001b[0mself\u001b[0m\u001b[1;33m.\u001b[0m\u001b[0m_send_output\u001b[0m\u001b[1;33m(\u001b[0m\u001b[0mmessage_body\u001b[0m\u001b[1;33m)\u001b[0m\u001b[1;33m\u001b[0m\u001b[0m\n\u001b[0m\u001b[0;32m   1103\u001b[0m \u001b[1;33m\u001b[0m\u001b[0m\n",
      "\u001b[1;32mC:\\Anaconda3\\lib\\http\\client.py\u001b[0m in \u001b[0;36m_send_output\u001b[1;34m(self, message_body)\u001b[0m\n\u001b[0;32m    933\u001b[0m \u001b[1;33m\u001b[0m\u001b[0m\n\u001b[1;32m--> 934\u001b[1;33m         \u001b[0mself\u001b[0m\u001b[1;33m.\u001b[0m\u001b[0msend\u001b[0m\u001b[1;33m(\u001b[0m\u001b[0mmsg\u001b[0m\u001b[1;33m)\u001b[0m\u001b[1;33m\u001b[0m\u001b[0m\n\u001b[0m\u001b[0;32m    935\u001b[0m         \u001b[1;32mif\u001b[0m \u001b[0mmessage_body\u001b[0m \u001b[1;32mis\u001b[0m \u001b[1;32mnot\u001b[0m \u001b[1;32mNone\u001b[0m\u001b[1;33m:\u001b[0m\u001b[1;33m\u001b[0m\u001b[0m\n",
      "\u001b[1;32mC:\\Anaconda3\\lib\\http\\client.py\u001b[0m in \u001b[0;36msend\u001b[1;34m(self, data)\u001b[0m\n\u001b[0;32m    876\u001b[0m             \u001b[1;32mif\u001b[0m \u001b[0mself\u001b[0m\u001b[1;33m.\u001b[0m\u001b[0mauto_open\u001b[0m\u001b[1;33m:\u001b[0m\u001b[1;33m\u001b[0m\u001b[0m\n\u001b[1;32m--> 877\u001b[1;33m                 \u001b[0mself\u001b[0m\u001b[1;33m.\u001b[0m\u001b[0mconnect\u001b[0m\u001b[1;33m(\u001b[0m\u001b[1;33m)\u001b[0m\u001b[1;33m\u001b[0m\u001b[0m\n\u001b[0m\u001b[0;32m    878\u001b[0m             \u001b[1;32melse\u001b[0m\u001b[1;33m:\u001b[0m\u001b[1;33m\u001b[0m\u001b[0m\n",
      "\u001b[1;32mC:\\Anaconda3\\lib\\http\\client.py\u001b[0m in \u001b[0;36mconnect\u001b[1;34m(self)\u001b[0m\n\u001b[0;32m   1259\u001b[0m             self.sock = self._context.wrap_socket(self.sock,\n\u001b[1;32m-> 1260\u001b[1;33m                                                   server_hostname=server_hostname)\n\u001b[0m\u001b[0;32m   1261\u001b[0m             \u001b[1;32mif\u001b[0m \u001b[1;32mnot\u001b[0m \u001b[0mself\u001b[0m\u001b[1;33m.\u001b[0m\u001b[0m_context\u001b[0m\u001b[1;33m.\u001b[0m\u001b[0mcheck_hostname\u001b[0m \u001b[1;32mand\u001b[0m \u001b[0mself\u001b[0m\u001b[1;33m.\u001b[0m\u001b[0m_check_hostname\u001b[0m\u001b[1;33m:\u001b[0m\u001b[1;33m\u001b[0m\u001b[0m\n",
      "\u001b[1;32mC:\\Anaconda3\\lib\\ssl.py\u001b[0m in \u001b[0;36mwrap_socket\u001b[1;34m(self, sock, server_side, do_handshake_on_connect, suppress_ragged_eofs, server_hostname)\u001b[0m\n\u001b[0;32m    376\u001b[0m                          \u001b[0mserver_hostname\u001b[0m\u001b[1;33m=\u001b[0m\u001b[0mserver_hostname\u001b[0m\u001b[1;33m,\u001b[0m\u001b[1;33m\u001b[0m\u001b[0m\n\u001b[1;32m--> 377\u001b[1;33m                          _context=self)\n\u001b[0m\u001b[0;32m    378\u001b[0m \u001b[1;33m\u001b[0m\u001b[0m\n",
      "\u001b[1;32mC:\\Anaconda3\\lib\\ssl.py\u001b[0m in \u001b[0;36m__init__\u001b[1;34m(self, sock, keyfile, certfile, server_side, cert_reqs, ssl_version, ca_certs, do_handshake_on_connect, family, type, proto, fileno, suppress_ragged_eofs, npn_protocols, ciphers, server_hostname, _context)\u001b[0m\n\u001b[0;32m    751\u001b[0m                         \u001b[1;32mraise\u001b[0m \u001b[0mValueError\u001b[0m\u001b[1;33m(\u001b[0m\u001b[1;34m\"do_handshake_on_connect should not be specified for non-blocking sockets\"\u001b[0m\u001b[1;33m)\u001b[0m\u001b[1;33m\u001b[0m\u001b[0m\n\u001b[1;32m--> 752\u001b[1;33m                     \u001b[0mself\u001b[0m\u001b[1;33m.\u001b[0m\u001b[0mdo_handshake\u001b[0m\u001b[1;33m(\u001b[0m\u001b[1;33m)\u001b[0m\u001b[1;33m\u001b[0m\u001b[0m\n\u001b[0m\u001b[0;32m    753\u001b[0m \u001b[1;33m\u001b[0m\u001b[0m\n",
      "\u001b[1;32mC:\\Anaconda3\\lib\\ssl.py\u001b[0m in \u001b[0;36mdo_handshake\u001b[1;34m(self, block)\u001b[0m\n\u001b[0;32m    987\u001b[0m                 \u001b[0mself\u001b[0m\u001b[1;33m.\u001b[0m\u001b[0msettimeout\u001b[0m\u001b[1;33m(\u001b[0m\u001b[1;32mNone\u001b[0m\u001b[1;33m)\u001b[0m\u001b[1;33m\u001b[0m\u001b[0m\n\u001b[1;32m--> 988\u001b[1;33m             \u001b[0mself\u001b[0m\u001b[1;33m.\u001b[0m\u001b[0m_sslobj\u001b[0m\u001b[1;33m.\u001b[0m\u001b[0mdo_handshake\u001b[0m\u001b[1;33m(\u001b[0m\u001b[1;33m)\u001b[0m\u001b[1;33m\u001b[0m\u001b[0m\n\u001b[0m\u001b[0;32m    989\u001b[0m         \u001b[1;32mfinally\u001b[0m\u001b[1;33m:\u001b[0m\u001b[1;33m\u001b[0m\u001b[0m\n",
      "\u001b[1;32mC:\\Anaconda3\\lib\\ssl.py\u001b[0m in \u001b[0;36mdo_handshake\u001b[1;34m(self)\u001b[0m\n\u001b[0;32m    632\u001b[0m         \u001b[1;34m\"\"\"Start the SSL/TLS handshake.\"\"\"\u001b[0m\u001b[1;33m\u001b[0m\u001b[0m\n\u001b[1;32m--> 633\u001b[1;33m         \u001b[0mself\u001b[0m\u001b[1;33m.\u001b[0m\u001b[0m_sslobj\u001b[0m\u001b[1;33m.\u001b[0m\u001b[0mdo_handshake\u001b[0m\u001b[1;33m(\u001b[0m\u001b[1;33m)\u001b[0m\u001b[1;33m\u001b[0m\u001b[0m\n\u001b[0m\u001b[0;32m    634\u001b[0m         \u001b[1;32mif\u001b[0m \u001b[0mself\u001b[0m\u001b[1;33m.\u001b[0m\u001b[0mcontext\u001b[0m\u001b[1;33m.\u001b[0m\u001b[0mcheck_hostname\u001b[0m\u001b[1;33m:\u001b[0m\u001b[1;33m\u001b[0m\u001b[0m\n",
      "\u001b[1;31mTimeoutError\u001b[0m: [WinError 10060] Une tentative de connexion a échoué car le parti connecté n’a pas répondu convenablement au-delà d’une certaine durée ou une connexion établie a échoué car l’hôte de connexion n’a pas répondu",
      "\nDuring handling of the above exception, another exception occurred:\n",
      "\u001b[1;31mURLError\u001b[0m                                  Traceback (most recent call last)",
      "\u001b[1;32m<ipython-input-123-501560abb027>\u001b[0m in \u001b[0;36m<module>\u001b[1;34m()\u001b[0m\n\u001b[1;32m----> 1\u001b[1;33m \u001b[0mget_annonces_photos\u001b[0m\u001b[1;33m(\u001b[0m\u001b[0mannonces_photos\u001b[0m\u001b[1;33m)\u001b[0m\u001b[1;33m\u001b[0m\u001b[0m\n\u001b[0m",
      "\u001b[1;32m<ipython-input-89-5d87fc441a18>\u001b[0m in \u001b[0;36mget_annonces_photos\u001b[1;34m(df)\u001b[0m\n\u001b[0;32m      4\u001b[0m         \u001b[0mos\u001b[0m\u001b[1;33m.\u001b[0m\u001b[0mmakedirs\u001b[0m\u001b[1;33m(\u001b[0m\u001b[0mimage_folder\u001b[0m\u001b[1;33m)\u001b[0m\u001b[1;33m\u001b[0m\u001b[0m\n\u001b[0;32m      5\u001b[0m     \u001b[1;32mfor\u001b[0m \u001b[0mindex\u001b[0m\u001b[1;33m,\u001b[0m \u001b[0mrow\u001b[0m \u001b[1;32min\u001b[0m \u001b[0mdf\u001b[0m\u001b[1;33m.\u001b[0m\u001b[0miterrows\u001b[0m\u001b[1;33m(\u001b[0m\u001b[1;33m)\u001b[0m\u001b[1;33m:\u001b[0m\u001b[1;33m\u001b[0m\u001b[0m\n\u001b[1;32m----> 6\u001b[1;33m         \u001b[0mdownload_images\u001b[0m\u001b[1;33m(\u001b[0m\u001b[0mrow\u001b[0m\u001b[1;33m,\u001b[0m \u001b[0mimage_folder\u001b[0m\u001b[1;33m)\u001b[0m\u001b[1;33m\u001b[0m\u001b[0m\n\u001b[0m",
      "\u001b[1;32m<ipython-input-122-9229d4520783>\u001b[0m in \u001b[0;36mdownload_images\u001b[1;34m(annonce, image_folder)\u001b[0m\n\u001b[0;32m      6\u001b[0m     \u001b[1;32mfor\u001b[0m \u001b[0murl\u001b[0m \u001b[1;32min\u001b[0m \u001b[0murls\u001b[0m\u001b[1;33m:\u001b[0m\u001b[1;33m\u001b[0m\u001b[0m\n\u001b[0;32m      7\u001b[0m         \u001b[1;32mtry\u001b[0m\u001b[1;33m:\u001b[0m\u001b[1;33m\u001b[0m\u001b[0m\n\u001b[1;32m----> 8\u001b[1;33m             \u001b[0mresult\u001b[0m \u001b[1;33m=\u001b[0m \u001b[0murllib\u001b[0m\u001b[1;33m.\u001b[0m\u001b[0mrequest\u001b[0m\u001b[1;33m.\u001b[0m\u001b[0murlopen\u001b[0m\u001b[1;33m(\u001b[0m\u001b[0murl\u001b[0m\u001b[1;33m)\u001b[0m\u001b[1;33m\u001b[0m\u001b[0m\n\u001b[0m\u001b[0;32m      9\u001b[0m         \u001b[1;32mexcept\u001b[0m \u001b[0murllib\u001b[0m\u001b[1;33m.\u001b[0m\u001b[0merror\u001b[0m\u001b[1;33m.\u001b[0m\u001b[0mHTTPError\u001b[0m \u001b[1;32mas\u001b[0m \u001b[0merr\u001b[0m\u001b[1;33m:\u001b[0m\u001b[1;33m\u001b[0m\u001b[0m\n\u001b[0;32m     10\u001b[0m             \u001b[0mprint\u001b[0m\u001b[1;33m(\u001b[0m\u001b[1;34m\"Type error: \"\u001b[0m\u001b[1;33m,\u001b[0m \u001b[0merr\u001b[0m\u001b[1;33m.\u001b[0m\u001b[0mcode\u001b[0m\u001b[1;33m)\u001b[0m\u001b[1;33m\u001b[0m\u001b[0m\n",
      "\u001b[1;32mC:\\Anaconda3\\lib\\urllib\\request.py\u001b[0m in \u001b[0;36murlopen\u001b[1;34m(url, data, timeout, cafile, capath, cadefault, context)\u001b[0m\n\u001b[0;32m    161\u001b[0m     \u001b[1;32melse\u001b[0m\u001b[1;33m:\u001b[0m\u001b[1;33m\u001b[0m\u001b[0m\n\u001b[0;32m    162\u001b[0m         \u001b[0mopener\u001b[0m \u001b[1;33m=\u001b[0m \u001b[0m_opener\u001b[0m\u001b[1;33m\u001b[0m\u001b[0m\n\u001b[1;32m--> 163\u001b[1;33m     \u001b[1;32mreturn\u001b[0m \u001b[0mopener\u001b[0m\u001b[1;33m.\u001b[0m\u001b[0mopen\u001b[0m\u001b[1;33m(\u001b[0m\u001b[0murl\u001b[0m\u001b[1;33m,\u001b[0m \u001b[0mdata\u001b[0m\u001b[1;33m,\u001b[0m \u001b[0mtimeout\u001b[0m\u001b[1;33m)\u001b[0m\u001b[1;33m\u001b[0m\u001b[0m\n\u001b[0m\u001b[0;32m    164\u001b[0m \u001b[1;33m\u001b[0m\u001b[0m\n\u001b[0;32m    165\u001b[0m \u001b[1;32mdef\u001b[0m \u001b[0minstall_opener\u001b[0m\u001b[1;33m(\u001b[0m\u001b[0mopener\u001b[0m\u001b[1;33m)\u001b[0m\u001b[1;33m:\u001b[0m\u001b[1;33m\u001b[0m\u001b[0m\n",
      "\u001b[1;32mC:\\Anaconda3\\lib\\urllib\\request.py\u001b[0m in \u001b[0;36mopen\u001b[1;34m(self, fullurl, data, timeout)\u001b[0m\n\u001b[0;32m    464\u001b[0m             \u001b[0mreq\u001b[0m \u001b[1;33m=\u001b[0m \u001b[0mmeth\u001b[0m\u001b[1;33m(\u001b[0m\u001b[0mreq\u001b[0m\u001b[1;33m)\u001b[0m\u001b[1;33m\u001b[0m\u001b[0m\n\u001b[0;32m    465\u001b[0m \u001b[1;33m\u001b[0m\u001b[0m\n\u001b[1;32m--> 466\u001b[1;33m         \u001b[0mresponse\u001b[0m \u001b[1;33m=\u001b[0m \u001b[0mself\u001b[0m\u001b[1;33m.\u001b[0m\u001b[0m_open\u001b[0m\u001b[1;33m(\u001b[0m\u001b[0mreq\u001b[0m\u001b[1;33m,\u001b[0m \u001b[0mdata\u001b[0m\u001b[1;33m)\u001b[0m\u001b[1;33m\u001b[0m\u001b[0m\n\u001b[0m\u001b[0;32m    467\u001b[0m \u001b[1;33m\u001b[0m\u001b[0m\n\u001b[0;32m    468\u001b[0m         \u001b[1;31m# post-process response\u001b[0m\u001b[1;33m\u001b[0m\u001b[1;33m\u001b[0m\u001b[0m\n",
      "\u001b[1;32mC:\\Anaconda3\\lib\\urllib\\request.py\u001b[0m in \u001b[0;36m_open\u001b[1;34m(self, req, data)\u001b[0m\n\u001b[0;32m    482\u001b[0m         \u001b[0mprotocol\u001b[0m \u001b[1;33m=\u001b[0m \u001b[0mreq\u001b[0m\u001b[1;33m.\u001b[0m\u001b[0mtype\u001b[0m\u001b[1;33m\u001b[0m\u001b[0m\n\u001b[0;32m    483\u001b[0m         result = self._call_chain(self.handle_open, protocol, protocol +\n\u001b[1;32m--> 484\u001b[1;33m                                   '_open', req)\n\u001b[0m\u001b[0;32m    485\u001b[0m         \u001b[1;32mif\u001b[0m \u001b[0mresult\u001b[0m\u001b[1;33m:\u001b[0m\u001b[1;33m\u001b[0m\u001b[0m\n\u001b[0;32m    486\u001b[0m             \u001b[1;32mreturn\u001b[0m \u001b[0mresult\u001b[0m\u001b[1;33m\u001b[0m\u001b[0m\n",
      "\u001b[1;32mC:\\Anaconda3\\lib\\urllib\\request.py\u001b[0m in \u001b[0;36m_call_chain\u001b[1;34m(self, chain, kind, meth_name, *args)\u001b[0m\n\u001b[0;32m    442\u001b[0m         \u001b[1;32mfor\u001b[0m \u001b[0mhandler\u001b[0m \u001b[1;32min\u001b[0m \u001b[0mhandlers\u001b[0m\u001b[1;33m:\u001b[0m\u001b[1;33m\u001b[0m\u001b[0m\n\u001b[0;32m    443\u001b[0m             \u001b[0mfunc\u001b[0m \u001b[1;33m=\u001b[0m \u001b[0mgetattr\u001b[0m\u001b[1;33m(\u001b[0m\u001b[0mhandler\u001b[0m\u001b[1;33m,\u001b[0m \u001b[0mmeth_name\u001b[0m\u001b[1;33m)\u001b[0m\u001b[1;33m\u001b[0m\u001b[0m\n\u001b[1;32m--> 444\u001b[1;33m             \u001b[0mresult\u001b[0m \u001b[1;33m=\u001b[0m \u001b[0mfunc\u001b[0m\u001b[1;33m(\u001b[0m\u001b[1;33m*\u001b[0m\u001b[0margs\u001b[0m\u001b[1;33m)\u001b[0m\u001b[1;33m\u001b[0m\u001b[0m\n\u001b[0m\u001b[0;32m    445\u001b[0m             \u001b[1;32mif\u001b[0m \u001b[0mresult\u001b[0m \u001b[1;32mis\u001b[0m \u001b[1;32mnot\u001b[0m \u001b[1;32mNone\u001b[0m\u001b[1;33m:\u001b[0m\u001b[1;33m\u001b[0m\u001b[0m\n\u001b[0;32m    446\u001b[0m                 \u001b[1;32mreturn\u001b[0m \u001b[0mresult\u001b[0m\u001b[1;33m\u001b[0m\u001b[0m\n",
      "\u001b[1;32mC:\\Anaconda3\\lib\\urllib\\request.py\u001b[0m in \u001b[0;36mhttps_open\u001b[1;34m(self, req)\u001b[0m\n\u001b[0;32m   1295\u001b[0m         \u001b[1;32mdef\u001b[0m \u001b[0mhttps_open\u001b[0m\u001b[1;33m(\u001b[0m\u001b[0mself\u001b[0m\u001b[1;33m,\u001b[0m \u001b[0mreq\u001b[0m\u001b[1;33m)\u001b[0m\u001b[1;33m:\u001b[0m\u001b[1;33m\u001b[0m\u001b[0m\n\u001b[0;32m   1296\u001b[0m             return self.do_open(http.client.HTTPSConnection, req,\n\u001b[1;32m-> 1297\u001b[1;33m                 context=self._context, check_hostname=self._check_hostname)\n\u001b[0m\u001b[0;32m   1298\u001b[0m \u001b[1;33m\u001b[0m\u001b[0m\n\u001b[0;32m   1299\u001b[0m         \u001b[0mhttps_request\u001b[0m \u001b[1;33m=\u001b[0m \u001b[0mAbstractHTTPHandler\u001b[0m\u001b[1;33m.\u001b[0m\u001b[0mdo_request_\u001b[0m\u001b[1;33m\u001b[0m\u001b[0m\n",
      "\u001b[1;32mC:\\Anaconda3\\lib\\urllib\\request.py\u001b[0m in \u001b[0;36mdo_open\u001b[1;34m(self, http_class, req, **http_conn_args)\u001b[0m\n\u001b[0;32m   1254\u001b[0m                 \u001b[0mh\u001b[0m\u001b[1;33m.\u001b[0m\u001b[0mrequest\u001b[0m\u001b[1;33m(\u001b[0m\u001b[0mreq\u001b[0m\u001b[1;33m.\u001b[0m\u001b[0mget_method\u001b[0m\u001b[1;33m(\u001b[0m\u001b[1;33m)\u001b[0m\u001b[1;33m,\u001b[0m \u001b[0mreq\u001b[0m\u001b[1;33m.\u001b[0m\u001b[0mselector\u001b[0m\u001b[1;33m,\u001b[0m \u001b[0mreq\u001b[0m\u001b[1;33m.\u001b[0m\u001b[0mdata\u001b[0m\u001b[1;33m,\u001b[0m \u001b[0mheaders\u001b[0m\u001b[1;33m)\u001b[0m\u001b[1;33m\u001b[0m\u001b[0m\n\u001b[0;32m   1255\u001b[0m             \u001b[1;32mexcept\u001b[0m \u001b[0mOSError\u001b[0m \u001b[1;32mas\u001b[0m \u001b[0merr\u001b[0m\u001b[1;33m:\u001b[0m \u001b[1;31m# timeout error\u001b[0m\u001b[1;33m\u001b[0m\u001b[0m\n\u001b[1;32m-> 1256\u001b[1;33m                 \u001b[1;32mraise\u001b[0m \u001b[0mURLError\u001b[0m\u001b[1;33m(\u001b[0m\u001b[0merr\u001b[0m\u001b[1;33m)\u001b[0m\u001b[1;33m\u001b[0m\u001b[0m\n\u001b[0m\u001b[0;32m   1257\u001b[0m             \u001b[0mr\u001b[0m \u001b[1;33m=\u001b[0m \u001b[0mh\u001b[0m\u001b[1;33m.\u001b[0m\u001b[0mgetresponse\u001b[0m\u001b[1;33m(\u001b[0m\u001b[1;33m)\u001b[0m\u001b[1;33m\u001b[0m\u001b[0m\n\u001b[0;32m   1258\u001b[0m         \u001b[1;32mexcept\u001b[0m\u001b[1;33m:\u001b[0m\u001b[1;33m\u001b[0m\u001b[0m\n",
      "\u001b[1;31mURLError\u001b[0m: <urlopen error [WinError 10060] Une tentative de connexion a échoué car le parti connecté n’a pas répondu convenablement au-delà d’une certaine durée ou une connexion établie a échoué car l’hôte de connexion n’a pas répondu>"
     ]
    }
   ],
   "source": [
    "get_annonces_photos(annonces_photos)"
   ]
  },
  {
   "cell_type": "code",
   "execution_count": 124,
   "metadata": {
    "collapsed": true
   },
   "outputs": [
    {
     "name": "stdout",
     "output_type": "stream",
     "text": [
      "['https://images.craigslist.org/00B0B_gdipylIIGyz_600x450.jpg', 'https://images.craigslist.org/00A0A_kHkqBI3L9YT_600x450.jpg', 'https://images.craigslist.org/00y0y_gggUPpYXy1p_600x450.jpg', 'https://images.craigslist.org/00M0M_1stRaPTHkPU_600x450.jpg', 'https://images.craigslist.org/00J0J_1EQo5a1Dw5A_600x450.jpg', 'https://images.craigslist.org/00q0q_gDxF9cP18I9_600x450.jpg', 'https://images.craigslist.org/01515_c6qJHvP8LPf_600x450.jpg', 'https://images.craigslist.org/00e0e_ljxb63jRcAK_600x450.jpg', 'https://images.craigslist.org/01616_k7V7pIUMslW_600x450.jpg', 'https://images.craigslist.org/01717_iPcyENsjAPG_600x450.jpg', 'https://images.craigslist.org/00909_1IDzFawzgid_600x450.jpg', 'https://images.craigslist.org/00m0m_4RkfRotSU6t_600x450.jpg', 'https://images.craigslist.org/00505_gL1M4b2o1M9_600x450.jpg', 'https://images.craigslist.org/00Q0Q_7khRNIo9qKv_600x450.jpg', 'https://images.craigslist.org/00I0I_ivT4LyHAzWH_600x450.jpg', 'https://images.craigslist.org/00707_3lSnGykypE5_600x450.jpg', 'https://images.craigslist.org/00Z0Z_6BqKVPi03MV_600x450.jpg', 'https://images.craigslist.org/00o0o_6qlZYf3jJMx_600x450.jpg', 'https://images.craigslist.org/00N0N_bIISvKEaSu5_600x450.jpg', 'https://images.craigslist.org/00p0p_2VmKGBj7COW_600x450.jpg', 'https://images.craigslist.org/00v0v_8cGShgkDyNk_600x450.jpg', 'https://images.craigslist.org/00606_a2UhKu1NyRm_600x450.jpg', 'https://images.craigslist.org/01010_bwc8Vpz3Mqu_600x450.jpg']\n"
     ]
    }
   ],
   "source": [
    "for url in annonces_photos[annonces_photos['postId']==6022096865.0]['photos']:\n",
    "    print (url)"
   ]
  },
  {
   "cell_type": "code",
   "execution_count": 107,
   "metadata": {
    "collapsed": false
   },
   "outputs": [
    {
     "data": {
      "text/plain": [
       "4    https://rmn.craigslist.org/mob/5951630017.html\n",
       "Name: url, dtype: object"
      ]
     },
     "execution_count": 107,
     "metadata": {},
     "output_type": "execute_result"
    }
   ],
   "source": [
    "annonces[annonces['postId']==5951630017.0]['url']"
   ]
  },
  {
   "cell_type": "code",
   "execution_count": 117,
   "metadata": {
    "collapsed": false
   },
   "outputs": [
    {
     "name": "stdout",
     "output_type": "stream",
     "text": [
      "404\n"
     ]
    }
   ],
   "source": [
    "import urllib\n",
    "try:\n",
    "    result = urllib.request.urlopen('https://images.craigslist.org/00O0O_hxqOmT0Sft5_600x450.jpg')\n",
    "except urllib.error.HTTPError as err:\n",
    "    print(err.code)"
   ]
  },
  {
   "cell_type": "code",
   "execution_count": 140,
   "metadata": {
    "collapsed": false
   },
   "outputs": [
    {
     "data": {
      "text/html": [
       "<div>\n",
       "<table border=\"1\" class=\"dataframe\">\n",
       "  <thead>\n",
       "    <tr style=\"text-align: right;\">\n",
       "      <th></th>\n",
       "      <th>postId</th>\n",
       "      <th>numberPhotos</th>\n",
       "      <th>photos</th>\n",
       "      <th>exist</th>\n",
       "    </tr>\n",
       "  </thead>\n",
       "  <tbody>\n",
       "    <tr>\n",
       "      <th>4</th>\n",
       "      <td>5.951630e+09</td>\n",
       "      <td>1</td>\n",
       "      <td>[https://images.craigslist.org/00O0O_hxqOmT0Sf...</td>\n",
       "      <td>True</td>\n",
       "    </tr>\n",
       "  </tbody>\n",
       "</table>\n",
       "</div>"
      ],
      "text/plain": [
       "         postId  numberPhotos  \\\n",
       "4  5.951630e+09             1   \n",
       "\n",
       "                                              photos exist  \n",
       "4  [https://images.craigslist.org/00O0O_hxqOmT0Sf...  True  "
      ]
     },
     "execution_count": 140,
     "metadata": {},
     "output_type": "execute_result"
    }
   ],
   "source": [
    "annonces_photos[annonces_photos['postId']==5951630017.0].index\n",
    "annonces_photos.loc[4, 'exist'].replace('True', 'False')\n",
    "annonces_photos[annonces_photos['postId']==5951630017.0]\n"
   ]
  },
  {
   "cell_type": "code",
   "execution_count": 144,
   "metadata": {
    "collapsed": false
   },
   "outputs": [
    {
     "data": {
      "text/plain": [
       "Int64Index([10283], dtype='int64')"
      ]
     },
     "execution_count": 144,
     "metadata": {},
     "output_type": "execute_result"
    }
   ],
   "source": [
    "\n",
    "annonces_photos[annonces_photos['postId']==6036867194.0].index"
   ]
  },
  {
   "cell_type": "code",
   "execution_count": 143,
   "metadata": {
    "collapsed": false
   },
   "outputs": [
    {
     "data": {
      "text/plain": [
       "(49019, 4)"
      ]
     },
     "execution_count": 143,
     "metadata": {},
     "output_type": "execute_result"
    }
   ],
   "source": [
    "annonces_photos.shape"
   ]
  },
  {
   "cell_type": "code",
   "execution_count": 145,
   "metadata": {
    "collapsed": false
   },
   "outputs": [
    {
     "data": {
      "text/plain": [
       "490.19"
      ]
     },
     "execution_count": 145,
     "metadata": {},
     "output_type": "execute_result"
    }
   ],
   "source": [
    "49019*0.01"
   ]
  },
  {
   "cell_type": "code",
   "execution_count": 2,
   "metadata": {
    "collapsed": true
   },
   "outputs": [],
   "source": [
    "annonces_photos = pandas.read_json(os.path.join(home, 'data/photos.json'))"
   ]
  },
  {
   "cell_type": "code",
   "execution_count": 3,
   "metadata": {
    "collapsed": false
   },
   "outputs": [
    {
     "data": {
      "text/html": [
       "<div>\n",
       "<table border=\"1\" class=\"dataframe\">\n",
       "  <thead>\n",
       "    <tr style=\"text-align: right;\">\n",
       "      <th></th>\n",
       "      <th>numberPhotos</th>\n",
       "      <th>photos</th>\n",
       "      <th>postId</th>\n",
       "    </tr>\n",
       "  </thead>\n",
       "  <tbody>\n",
       "    <tr>\n",
       "      <th>0</th>\n",
       "      <td>3</td>\n",
       "      <td>[https://images.craigslist.org/00W0W_1BQvcKZae...</td>\n",
       "      <td>6002472651</td>\n",
       "    </tr>\n",
       "    <tr>\n",
       "      <th>1</th>\n",
       "      <td>2</td>\n",
       "      <td>[https://images.craigslist.org/00P0P_3LANvZPBL...</td>\n",
       "      <td>6044353500</td>\n",
       "    </tr>\n",
       "    <tr>\n",
       "      <th>10</th>\n",
       "      <td>23</td>\n",
       "      <td>[https://images.craigslist.org/00808_6X5qlFUca...</td>\n",
       "      <td>6003718557</td>\n",
       "    </tr>\n",
       "    <tr>\n",
       "      <th>100</th>\n",
       "      <td>13</td>\n",
       "      <td>[https://images.craigslist.org/00l0l_h609dZmFR...</td>\n",
       "      <td>5990008830</td>\n",
       "    </tr>\n",
       "    <tr>\n",
       "      <th>1000</th>\n",
       "      <td>13</td>\n",
       "      <td>[https://images.craigslist.org/01515_h6htMNM8e...</td>\n",
       "      <td>6035027677</td>\n",
       "    </tr>\n",
       "  </tbody>\n",
       "</table>\n",
       "</div>"
      ],
      "text/plain": [
       "      numberPhotos                                             photos  \\\n",
       "0                3  [https://images.craigslist.org/00W0W_1BQvcKZae...   \n",
       "1                2  [https://images.craigslist.org/00P0P_3LANvZPBL...   \n",
       "10              23  [https://images.craigslist.org/00808_6X5qlFUca...   \n",
       "100             13  [https://images.craigslist.org/00l0l_h609dZmFR...   \n",
       "1000            13  [https://images.craigslist.org/01515_h6htMNM8e...   \n",
       "\n",
       "          postId  \n",
       "0     6002472651  \n",
       "1     6044353500  \n",
       "10    6003718557  \n",
       "100   5990008830  \n",
       "1000  6035027677  "
      ]
     },
     "execution_count": 3,
     "metadata": {},
     "output_type": "execute_result"
    }
   ],
   "source": [
    "annonces_photos.head()"
   ]
  },
  {
   "cell_type": "code",
   "execution_count": 6,
   "metadata": {
    "collapsed": true
   },
   "outputs": [],
   "source": [
    "annonces_photos['exist'] = 'True'"
   ]
  },
  {
   "cell_type": "code",
   "execution_count": 8,
   "metadata": {
    "collapsed": false
   },
   "outputs": [
    {
     "data": {
      "text/html": [
       "<div>\n",
       "<table border=\"1\" class=\"dataframe\">\n",
       "  <thead>\n",
       "    <tr style=\"text-align: right;\">\n",
       "      <th></th>\n",
       "      <th>numberPhotos</th>\n",
       "      <th>photos</th>\n",
       "      <th>postId</th>\n",
       "      <th>exist</th>\n",
       "    </tr>\n",
       "  </thead>\n",
       "  <tbody>\n",
       "    <tr>\n",
       "      <th>0</th>\n",
       "      <td>3</td>\n",
       "      <td>[https://images.craigslist.org/00W0W_1BQvcKZae...</td>\n",
       "      <td>6002472651</td>\n",
       "      <td>True</td>\n",
       "    </tr>\n",
       "    <tr>\n",
       "      <th>1</th>\n",
       "      <td>2</td>\n",
       "      <td>[https://images.craigslist.org/00P0P_3LANvZPBL...</td>\n",
       "      <td>6044353500</td>\n",
       "      <td>True</td>\n",
       "    </tr>\n",
       "    <tr>\n",
       "      <th>10</th>\n",
       "      <td>23</td>\n",
       "      <td>[https://images.craigslist.org/00808_6X5qlFUca...</td>\n",
       "      <td>6003718557</td>\n",
       "      <td>True</td>\n",
       "    </tr>\n",
       "    <tr>\n",
       "      <th>100</th>\n",
       "      <td>13</td>\n",
       "      <td>[https://images.craigslist.org/00l0l_h609dZmFR...</td>\n",
       "      <td>5990008830</td>\n",
       "      <td>True</td>\n",
       "    </tr>\n",
       "    <tr>\n",
       "      <th>1000</th>\n",
       "      <td>13</td>\n",
       "      <td>[https://images.craigslist.org/01515_h6htMNM8e...</td>\n",
       "      <td>6035027677</td>\n",
       "      <td>True</td>\n",
       "    </tr>\n",
       "  </tbody>\n",
       "</table>\n",
       "</div>"
      ],
      "text/plain": [
       "     numberPhotos                                             photos  \\\n",
       "0               3  [https://images.craigslist.org/00W0W_1BQvcKZae...   \n",
       "1               2  [https://images.craigslist.org/00P0P_3LANvZPBL...   \n",
       "10             23  [https://images.craigslist.org/00808_6X5qlFUca...   \n",
       "100            13  [https://images.craigslist.org/00l0l_h609dZmFR...   \n",
       "1000           13  [https://images.craigslist.org/01515_h6htMNM8e...   \n",
       "\n",
       "          postId exist  \n",
       "0     6002472651  True  \n",
       "1     6044353500  True  \n",
       "10    6003718557  True  \n",
       "100   5990008830  True  \n",
       "1000  6035027677  True  "
      ]
     },
     "execution_count": 8,
     "metadata": {},
     "output_type": "execute_result"
    }
   ],
   "source": [
    "annonces_photos.head()"
   ]
  },
  {
   "cell_type": "code",
   "execution_count": 45,
   "metadata": {
    "collapsed": false
   },
   "outputs": [
    {
     "data": {
      "text/plain": [
       "11011    True\n",
       "Name: exist, dtype: object"
      ]
     },
     "execution_count": 45,
     "metadata": {},
     "output_type": "execute_result"
    }
   ],
   "source": [
    "annonces_photos[annonces_photos['postId'] == 5946441380.0 ]['exist']"
   ]
  },
  {
   "cell_type": "code",
   "execution_count": 46,
   "metadata": {
    "collapsed": false
   },
   "outputs": [],
   "source": [
    "i = annonces_photos[annonces_photos['postId'] == 5946441380.0 ]['exist'].index\n",
    "annonces_photos.loc[i, 'exist'] = annonces_photos.loc[i, 'exist'].replace('True', 'False')"
   ]
  },
  {
   "cell_type": "code",
   "execution_count": 47,
   "metadata": {
    "collapsed": false,
    "scrolled": true
   },
   "outputs": [
    {
     "data": {
      "text/html": [
       "<div>\n",
       "<table border=\"1\" class=\"dataframe\">\n",
       "  <thead>\n",
       "    <tr style=\"text-align: right;\">\n",
       "      <th></th>\n",
       "      <th>numberPhotos</th>\n",
       "      <th>photos</th>\n",
       "      <th>postId</th>\n",
       "      <th>exist</th>\n",
       "    </tr>\n",
       "  </thead>\n",
       "  <tbody>\n",
       "    <tr>\n",
       "      <th>11011</th>\n",
       "      <td>4</td>\n",
       "      <td>[https://images.craigslist.org/00g0g_5RcyzuQsM...</td>\n",
       "      <td>5946441380</td>\n",
       "      <td>False</td>\n",
       "    </tr>\n",
       "  </tbody>\n",
       "</table>\n",
       "</div>"
      ],
      "text/plain": [
       "      numberPhotos                                             photos  \\\n",
       "11011            4  [https://images.craigslist.org/00g0g_5RcyzuQsM...   \n",
       "\n",
       "           postId  exist  \n",
       "11011  5946441380  False  "
      ]
     },
     "execution_count": 47,
     "metadata": {},
     "output_type": "execute_result"
    }
   ],
   "source": [
    "annonces_photos[annonces_photos['postId'] == 5946441380.0 ]"
   ]
  },
  {
   "cell_type": "code",
   "execution_count": 48,
   "metadata": {
    "collapsed": false
   },
   "outputs": [
    {
     "data": {
      "text/html": [
       "<div>\n",
       "<table border=\"1\" class=\"dataframe\">\n",
       "  <thead>\n",
       "    <tr style=\"text-align: right;\">\n",
       "      <th></th>\n",
       "      <th>numberPhotos</th>\n",
       "      <th>photos</th>\n",
       "      <th>postId</th>\n",
       "      <th>exist</th>\n",
       "    </tr>\n",
       "  </thead>\n",
       "  <tbody>\n",
       "    <tr>\n",
       "      <th>10345</th>\n",
       "      <td>3</td>\n",
       "      <td>[https://images.craigslist.org/00Y0Y_icOELnusm...</td>\n",
       "      <td>5949383953</td>\n",
       "      <td>False</td>\n",
       "    </tr>\n",
       "    <tr>\n",
       "      <th>10392</th>\n",
       "      <td>7</td>\n",
       "      <td>[https://images.craigslist.org/00I0I_be2cAkF8s...</td>\n",
       "      <td>5943725529</td>\n",
       "      <td>False</td>\n",
       "    </tr>\n",
       "    <tr>\n",
       "      <th>10822</th>\n",
       "      <td>1</td>\n",
       "      <td>[https://images.craigslist.org/00202_15QDB5H48...</td>\n",
       "      <td>5954724974</td>\n",
       "      <td>False</td>\n",
       "    </tr>\n",
       "    <tr>\n",
       "      <th>10826</th>\n",
       "      <td>2</td>\n",
       "      <td>[https://images.craigslist.org/00808_cx8uZeJC2...</td>\n",
       "      <td>5943961496</td>\n",
       "      <td>False</td>\n",
       "    </tr>\n",
       "    <tr>\n",
       "      <th>10855</th>\n",
       "      <td>7</td>\n",
       "      <td>[https://images.craigslist.org/00N0N_11XFXfuGO...</td>\n",
       "      <td>5953103823</td>\n",
       "      <td>False</td>\n",
       "    </tr>\n",
       "    <tr>\n",
       "      <th>11005</th>\n",
       "      <td>17</td>\n",
       "      <td>[https://images.craigslist.org/00F0F_kz4snfOyp...</td>\n",
       "      <td>5947796703</td>\n",
       "      <td>False</td>\n",
       "    </tr>\n",
       "    <tr>\n",
       "      <th>11011</th>\n",
       "      <td>4</td>\n",
       "      <td>[https://images.craigslist.org/00g0g_5RcyzuQsM...</td>\n",
       "      <td>5946441380</td>\n",
       "      <td>False</td>\n",
       "    </tr>\n",
       "  </tbody>\n",
       "</table>\n",
       "</div>"
      ],
      "text/plain": [
       "      numberPhotos                                             photos  \\\n",
       "10345            3  [https://images.craigslist.org/00Y0Y_icOELnusm...   \n",
       "10392            7  [https://images.craigslist.org/00I0I_be2cAkF8s...   \n",
       "10822            1  [https://images.craigslist.org/00202_15QDB5H48...   \n",
       "10826            2  [https://images.craigslist.org/00808_cx8uZeJC2...   \n",
       "10855            7  [https://images.craigslist.org/00N0N_11XFXfuGO...   \n",
       "11005           17  [https://images.craigslist.org/00F0F_kz4snfOyp...   \n",
       "11011            4  [https://images.craigslist.org/00g0g_5RcyzuQsM...   \n",
       "\n",
       "           postId  exist  \n",
       "10345  5949383953  False  \n",
       "10392  5943725529  False  \n",
       "10822  5954724974  False  \n",
       "10826  5943961496  False  \n",
       "10855  5953103823  False  \n",
       "11005  5947796703  False  \n",
       "11011  5946441380  False  "
      ]
     },
     "execution_count": 48,
     "metadata": {},
     "output_type": "execute_result"
    }
   ],
   "source": [
    "annonces_photos[annonces_photos['exist']=='False']"
   ]
  },
  {
   "cell_type": "code",
   "execution_count": 50,
   "metadata": {
    "collapsed": false
   },
   "outputs": [],
   "source": [
    "annonces_photos.to_json(os.path.join(home, 'data/phtos2.json'))"
   ]
  },
  {
   "cell_type": "code",
   "execution_count": 82,
   "metadata": {
    "collapsed": false
   },
   "outputs": [
    {
     "data": {
      "text/html": [
       "<div>\n",
       "<table border=\"1\" class=\"dataframe\">\n",
       "  <thead>\n",
       "    <tr style=\"text-align: right;\">\n",
       "      <th></th>\n",
       "      <th>numberPhotos</th>\n",
       "      <th>photos</th>\n",
       "      <th>postId</th>\n",
       "      <th>exist</th>\n",
       "    </tr>\n",
       "  </thead>\n",
       "  <tbody>\n",
       "    <tr>\n",
       "      <th>10392</th>\n",
       "      <td>7</td>\n",
       "      <td>[https://images.craigslist.org/00I0I_be2cAkF8s...</td>\n",
       "      <td>5943725529</td>\n",
       "      <td>False</td>\n",
       "    </tr>\n",
       "    <tr>\n",
       "      <th>10345</th>\n",
       "      <td>3</td>\n",
       "      <td>[https://images.craigslist.org/00Y0Y_icOELnusm...</td>\n",
       "      <td>5949383953</td>\n",
       "      <td>False</td>\n",
       "    </tr>\n",
       "    <tr>\n",
       "      <th>10822</th>\n",
       "      <td>1</td>\n",
       "      <td>[https://images.craigslist.org/00202_15QDB5H48...</td>\n",
       "      <td>5954724974</td>\n",
       "      <td>False</td>\n",
       "    </tr>\n",
       "    <tr>\n",
       "      <th>11011</th>\n",
       "      <td>4</td>\n",
       "      <td>[https://images.craigslist.org/00g0g_5RcyzuQsM...</td>\n",
       "      <td>5946441380</td>\n",
       "      <td>False</td>\n",
       "    </tr>\n",
       "    <tr>\n",
       "      <th>11005</th>\n",
       "      <td>17</td>\n",
       "      <td>[https://images.craigslist.org/00F0F_kz4snfOyp...</td>\n",
       "      <td>5947796703</td>\n",
       "      <td>False</td>\n",
       "    </tr>\n",
       "    <tr>\n",
       "      <th>10826</th>\n",
       "      <td>2</td>\n",
       "      <td>[https://images.craigslist.org/00808_cx8uZeJC2...</td>\n",
       "      <td>5943961496</td>\n",
       "      <td>False</td>\n",
       "    </tr>\n",
       "    <tr>\n",
       "      <th>10855</th>\n",
       "      <td>7</td>\n",
       "      <td>[https://images.craigslist.org/00N0N_11XFXfuGO...</td>\n",
       "      <td>5953103823</td>\n",
       "      <td>False</td>\n",
       "    </tr>\n",
       "    <tr>\n",
       "      <th>0</th>\n",
       "      <td>3</td>\n",
       "      <td>[https://images.craigslist.org/00W0W_1BQvcKZae...</td>\n",
       "      <td>6002472651</td>\n",
       "      <td>True</td>\n",
       "    </tr>\n",
       "    <tr>\n",
       "      <th>39412</th>\n",
       "      <td>8</td>\n",
       "      <td>[https://images.craigslist.org/00a0a_6kQ6Qi6nY...</td>\n",
       "      <td>6040180439</td>\n",
       "      <td>True</td>\n",
       "    </tr>\n",
       "    <tr>\n",
       "      <th>39413</th>\n",
       "      <td>2</td>\n",
       "      <td>[https://images.craigslist.org/00P0P_hTH28oN3Z...</td>\n",
       "      <td>6029872819</td>\n",
       "      <td>True</td>\n",
       "    </tr>\n",
       "    <tr>\n",
       "      <th>39414</th>\n",
       "      <td>6</td>\n",
       "      <td>[https://images.craigslist.org/00202_bzJlkxxbS...</td>\n",
       "      <td>6040249283</td>\n",
       "      <td>True</td>\n",
       "    </tr>\n",
       "    <tr>\n",
       "      <th>39415</th>\n",
       "      <td>5</td>\n",
       "      <td>[https://images.craigslist.org/00R0R_fPKvvj0xw...</td>\n",
       "      <td>6036010266</td>\n",
       "      <td>True</td>\n",
       "    </tr>\n",
       "    <tr>\n",
       "      <th>39416</th>\n",
       "      <td>4</td>\n",
       "      <td>[https://images.craigslist.org/00o0o_2Tfe91PFB...</td>\n",
       "      <td>6046471577</td>\n",
       "      <td>True</td>\n",
       "    </tr>\n",
       "    <tr>\n",
       "      <th>39417</th>\n",
       "      <td>2</td>\n",
       "      <td>[https://images.craigslist.org/00W0W_i3LwjLITz...</td>\n",
       "      <td>6040286034</td>\n",
       "      <td>True</td>\n",
       "    </tr>\n",
       "    <tr>\n",
       "      <th>39418</th>\n",
       "      <td>6</td>\n",
       "      <td>[https://images.craigslist.org/01111_lFTQZrbAc...</td>\n",
       "      <td>6040276988</td>\n",
       "      <td>True</td>\n",
       "    </tr>\n",
       "    <tr>\n",
       "      <th>39420</th>\n",
       "      <td>4</td>\n",
       "      <td>[https://images.craigslist.org/00d0d_jeEaM5NKP...</td>\n",
       "      <td>6046463345</td>\n",
       "      <td>True</td>\n",
       "    </tr>\n",
       "    <tr>\n",
       "      <th>3942</th>\n",
       "      <td>1</td>\n",
       "      <td>[https://images.craigslist.org/00b0b_eQPGop5pc...</td>\n",
       "      <td>6005785828</td>\n",
       "      <td>True</td>\n",
       "    </tr>\n",
       "    <tr>\n",
       "      <th>39411</th>\n",
       "      <td>2</td>\n",
       "      <td>[https://images.craigslist.org/00d0d_esi6Qag1z...</td>\n",
       "      <td>6040110367</td>\n",
       "      <td>True</td>\n",
       "    </tr>\n",
       "    <tr>\n",
       "      <th>39421</th>\n",
       "      <td>18</td>\n",
       "      <td>[https://images.craigslist.org/00h0h_dWW8VBpnA...</td>\n",
       "      <td>6009557448</td>\n",
       "      <td>True</td>\n",
       "    </tr>\n",
       "    <tr>\n",
       "      <th>39422</th>\n",
       "      <td>18</td>\n",
       "      <td>[https://images.craigslist.org/00h0h_dWW8VBpnA...</td>\n",
       "      <td>6006030197</td>\n",
       "      <td>True</td>\n",
       "    </tr>\n",
       "    <tr>\n",
       "      <th>39423</th>\n",
       "      <td>5</td>\n",
       "      <td>[https://images.craigslist.org/00l0l_bMvW5LCdd...</td>\n",
       "      <td>6046659859</td>\n",
       "      <td>True</td>\n",
       "    </tr>\n",
       "    <tr>\n",
       "      <th>39424</th>\n",
       "      <td>18</td>\n",
       "      <td>[https://images.craigslist.org/00h0h_dWW8VBpnA...</td>\n",
       "      <td>6018346372</td>\n",
       "      <td>True</td>\n",
       "    </tr>\n",
       "    <tr>\n",
       "      <th>39425</th>\n",
       "      <td>1</td>\n",
       "      <td>[https://images.craigslist.org/00606_9m8vF1ZW7...</td>\n",
       "      <td>6046669414</td>\n",
       "      <td>True</td>\n",
       "    </tr>\n",
       "    <tr>\n",
       "      <th>39426</th>\n",
       "      <td>6</td>\n",
       "      <td>[https://images.craigslist.org/01010_c08VCZw4t...</td>\n",
       "      <td>6046658729</td>\n",
       "      <td>True</td>\n",
       "    </tr>\n",
       "    <tr>\n",
       "      <th>39419</th>\n",
       "      <td>1</td>\n",
       "      <td>[https://images.craigslist.org/00X0X_3AxP9SeQF...</td>\n",
       "      <td>6042512870</td>\n",
       "      <td>True</td>\n",
       "    </tr>\n",
       "    <tr>\n",
       "      <th>39410</th>\n",
       "      <td>2</td>\n",
       "      <td>[https://images.craigslist.org/00L0L_acQDqwzoA...</td>\n",
       "      <td>6034114450</td>\n",
       "      <td>True</td>\n",
       "    </tr>\n",
       "    <tr>\n",
       "      <th>39409</th>\n",
       "      <td>1</td>\n",
       "      <td>[https://images.craigslist.org/00707_ftWDUzu4V...</td>\n",
       "      <td>6033033952</td>\n",
       "      <td>True</td>\n",
       "    </tr>\n",
       "    <tr>\n",
       "      <th>39427</th>\n",
       "      <td>1</td>\n",
       "      <td>[https://images.craigslist.org/00606_9m8vF1ZW7...</td>\n",
       "      <td>6046671186</td>\n",
       "      <td>True</td>\n",
       "    </tr>\n",
       "    <tr>\n",
       "      <th>39390</th>\n",
       "      <td>1</td>\n",
       "      <td>[https://images.craigslist.org/00X0X_3AxP9SeQF...</td>\n",
       "      <td>6024883134</td>\n",
       "      <td>True</td>\n",
       "    </tr>\n",
       "    <tr>\n",
       "      <th>39391</th>\n",
       "      <td>12</td>\n",
       "      <td>[https://images.craigslist.org/00b0b_el2HJVoCX...</td>\n",
       "      <td>6045658287</td>\n",
       "      <td>True</td>\n",
       "    </tr>\n",
       "    <tr>\n",
       "      <th>...</th>\n",
       "      <td>...</td>\n",
       "      <td>...</td>\n",
       "      <td>...</td>\n",
       "      <td>...</td>\n",
       "    </tr>\n",
       "    <tr>\n",
       "      <th>24731</th>\n",
       "      <td>1</td>\n",
       "      <td>[https://images.craigslist.org/00w0w_aKYYLMmgh...</td>\n",
       "      <td>6044653141</td>\n",
       "      <td>True</td>\n",
       "    </tr>\n",
       "    <tr>\n",
       "      <th>24732</th>\n",
       "      <td>1</td>\n",
       "      <td>[https://images.craigslist.org/00w0w_aKYYLMmgh...</td>\n",
       "      <td>6041577787</td>\n",
       "      <td>True</td>\n",
       "    </tr>\n",
       "    <tr>\n",
       "      <th>24733</th>\n",
       "      <td>1</td>\n",
       "      <td>[https://images.craigslist.org/00606_gZMtlmkMC...</td>\n",
       "      <td>6022233073</td>\n",
       "      <td>True</td>\n",
       "    </tr>\n",
       "    <tr>\n",
       "      <th>24734</th>\n",
       "      <td>1</td>\n",
       "      <td>[https://images.craigslist.org/00I0I_gc8au3MUT...</td>\n",
       "      <td>6037173081</td>\n",
       "      <td>True</td>\n",
       "    </tr>\n",
       "    <tr>\n",
       "      <th>24726</th>\n",
       "      <td>1</td>\n",
       "      <td>[https://images.craigslist.org/00I0I_gc8au3MUT...</td>\n",
       "      <td>6037161070</td>\n",
       "      <td>True</td>\n",
       "    </tr>\n",
       "    <tr>\n",
       "      <th>24694</th>\n",
       "      <td>3</td>\n",
       "      <td>[https://images.craigslist.org/01414_95nwUaLqN...</td>\n",
       "      <td>6044452041</td>\n",
       "      <td>True</td>\n",
       "    </tr>\n",
       "    <tr>\n",
       "      <th>24715</th>\n",
       "      <td>1</td>\n",
       "      <td>[https://images.craigslist.org/00g0g_2hRiBj3Wg...</td>\n",
       "      <td>6039033474</td>\n",
       "      <td>True</td>\n",
       "    </tr>\n",
       "    <tr>\n",
       "      <th>24713</th>\n",
       "      <td>13</td>\n",
       "      <td>[https://images.craigslist.org/00j0j_1h5frsU2z...</td>\n",
       "      <td>6044051880</td>\n",
       "      <td>True</td>\n",
       "    </tr>\n",
       "    <tr>\n",
       "      <th>24696</th>\n",
       "      <td>2</td>\n",
       "      <td>[https://images.craigslist.org/00n0n_7siILv9BY...</td>\n",
       "      <td>6043248627</td>\n",
       "      <td>True</td>\n",
       "    </tr>\n",
       "    <tr>\n",
       "      <th>24697</th>\n",
       "      <td>1</td>\n",
       "      <td>[https://images.craigslist.org/00i0i_dVZJ6cAtI...</td>\n",
       "      <td>6039583276</td>\n",
       "      <td>True</td>\n",
       "    </tr>\n",
       "    <tr>\n",
       "      <th>24698</th>\n",
       "      <td>7</td>\n",
       "      <td>[https://images.craigslist.org/01111_dYLnIkPM3...</td>\n",
       "      <td>6044508294</td>\n",
       "      <td>True</td>\n",
       "    </tr>\n",
       "    <tr>\n",
       "      <th>24699</th>\n",
       "      <td>7</td>\n",
       "      <td>[https://images.craigslist.org/00c0c_eqIPwC4Ld...</td>\n",
       "      <td>6043278479</td>\n",
       "      <td>True</td>\n",
       "    </tr>\n",
       "    <tr>\n",
       "      <th>247</th>\n",
       "      <td>2</td>\n",
       "      <td>[https://images.craigslist.org/00202_kIfBD1Gbv...</td>\n",
       "      <td>6043118393</td>\n",
       "      <td>True</td>\n",
       "    </tr>\n",
       "    <tr>\n",
       "      <th>2470</th>\n",
       "      <td>24</td>\n",
       "      <td>[https://images.craigslist.org/00S0S_9T9ITH87F...</td>\n",
       "      <td>6028204088</td>\n",
       "      <td>True</td>\n",
       "    </tr>\n",
       "    <tr>\n",
       "      <th>24700</th>\n",
       "      <td>6</td>\n",
       "      <td>[https://images.craigslist.org/00101_75E797GBb...</td>\n",
       "      <td>6044062871</td>\n",
       "      <td>True</td>\n",
       "    </tr>\n",
       "    <tr>\n",
       "      <th>24701</th>\n",
       "      <td>1</td>\n",
       "      <td>[https://images.craigslist.org/00h0h_jNIocDWi5...</td>\n",
       "      <td>6043546424</td>\n",
       "      <td>True</td>\n",
       "    </tr>\n",
       "    <tr>\n",
       "      <th>24702</th>\n",
       "      <td>6</td>\n",
       "      <td>[https://images.craigslist.org/00G0G_dA9ssySXx...</td>\n",
       "      <td>6043558489</td>\n",
       "      <td>True</td>\n",
       "    </tr>\n",
       "    <tr>\n",
       "      <th>24714</th>\n",
       "      <td>6</td>\n",
       "      <td>[https://images.craigslist.org/01212_fFwTFFekE...</td>\n",
       "      <td>6044202009</td>\n",
       "      <td>True</td>\n",
       "    </tr>\n",
       "    <tr>\n",
       "      <th>24703</th>\n",
       "      <td>4</td>\n",
       "      <td>[https://images.craigslist.org/00r0r_3UK70SuXj...</td>\n",
       "      <td>6040287569</td>\n",
       "      <td>True</td>\n",
       "    </tr>\n",
       "    <tr>\n",
       "      <th>24705</th>\n",
       "      <td>5</td>\n",
       "      <td>[https://images.craigslist.org/00404_7yBEYoNry...</td>\n",
       "      <td>6028064746</td>\n",
       "      <td>True</td>\n",
       "    </tr>\n",
       "    <tr>\n",
       "      <th>24706</th>\n",
       "      <td>3</td>\n",
       "      <td>[https://images.craigslist.org/00l0l_1szMhFwig...</td>\n",
       "      <td>6036698315</td>\n",
       "      <td>True</td>\n",
       "    </tr>\n",
       "    <tr>\n",
       "      <th>24707</th>\n",
       "      <td>7</td>\n",
       "      <td>[https://images.craigslist.org/01212_eUmj3rndF...</td>\n",
       "      <td>6038121768</td>\n",
       "      <td>True</td>\n",
       "    </tr>\n",
       "    <tr>\n",
       "      <th>24708</th>\n",
       "      <td>7</td>\n",
       "      <td>[https://images.craigslist.org/01212_eUmj3rndF...</td>\n",
       "      <td>6039474221</td>\n",
       "      <td>True</td>\n",
       "    </tr>\n",
       "    <tr>\n",
       "      <th>24709</th>\n",
       "      <td>3</td>\n",
       "      <td>[https://images.craigslist.org/00b0b_8Io0i7kl4...</td>\n",
       "      <td>6044040604</td>\n",
       "      <td>True</td>\n",
       "    </tr>\n",
       "    <tr>\n",
       "      <th>2471</th>\n",
       "      <td>20</td>\n",
       "      <td>[https://images.craigslist.org/01717_5DtKbGrze...</td>\n",
       "      <td>6028073090</td>\n",
       "      <td>True</td>\n",
       "    </tr>\n",
       "    <tr>\n",
       "      <th>24710</th>\n",
       "      <td>2</td>\n",
       "      <td>[https://images.craigslist.org/00d0d_ei7x892Rt...</td>\n",
       "      <td>6044102005</td>\n",
       "      <td>True</td>\n",
       "    </tr>\n",
       "    <tr>\n",
       "      <th>24711</th>\n",
       "      <td>4</td>\n",
       "      <td>[https://images.craigslist.org/00w0w_1FbRx16zF...</td>\n",
       "      <td>6040675393</td>\n",
       "      <td>True</td>\n",
       "    </tr>\n",
       "    <tr>\n",
       "      <th>24712</th>\n",
       "      <td>7</td>\n",
       "      <td>[https://images.craigslist.org/00l0l_kjAcggIeH...</td>\n",
       "      <td>6040118133</td>\n",
       "      <td>True</td>\n",
       "    </tr>\n",
       "    <tr>\n",
       "      <th>24704</th>\n",
       "      <td>4</td>\n",
       "      <td>[https://images.craigslist.org/01111_3S7awnL8Y...</td>\n",
       "      <td>6009246403</td>\n",
       "      <td>True</td>\n",
       "    </tr>\n",
       "    <tr>\n",
       "      <th>exist</th>\n",
       "      <td>True</td>\n",
       "      <td>True</td>\n",
       "      <td>True</td>\n",
       "      <td>True</td>\n",
       "    </tr>\n",
       "  </tbody>\n",
       "</table>\n",
       "<p>49020 rows × 4 columns</p>\n",
       "</div>"
      ],
      "text/plain": [
       "      numberPhotos                                             photos  \\\n",
       "10392            7  [https://images.craigslist.org/00I0I_be2cAkF8s...   \n",
       "10345            3  [https://images.craigslist.org/00Y0Y_icOELnusm...   \n",
       "10822            1  [https://images.craigslist.org/00202_15QDB5H48...   \n",
       "11011            4  [https://images.craigslist.org/00g0g_5RcyzuQsM...   \n",
       "11005           17  [https://images.craigslist.org/00F0F_kz4snfOyp...   \n",
       "10826            2  [https://images.craigslist.org/00808_cx8uZeJC2...   \n",
       "10855            7  [https://images.craigslist.org/00N0N_11XFXfuGO...   \n",
       "0                3  [https://images.craigslist.org/00W0W_1BQvcKZae...   \n",
       "39412            8  [https://images.craigslist.org/00a0a_6kQ6Qi6nY...   \n",
       "39413            2  [https://images.craigslist.org/00P0P_hTH28oN3Z...   \n",
       "39414            6  [https://images.craigslist.org/00202_bzJlkxxbS...   \n",
       "39415            5  [https://images.craigslist.org/00R0R_fPKvvj0xw...   \n",
       "39416            4  [https://images.craigslist.org/00o0o_2Tfe91PFB...   \n",
       "39417            2  [https://images.craigslist.org/00W0W_i3LwjLITz...   \n",
       "39418            6  [https://images.craigslist.org/01111_lFTQZrbAc...   \n",
       "39420            4  [https://images.craigslist.org/00d0d_jeEaM5NKP...   \n",
       "3942             1  [https://images.craigslist.org/00b0b_eQPGop5pc...   \n",
       "39411            2  [https://images.craigslist.org/00d0d_esi6Qag1z...   \n",
       "39421           18  [https://images.craigslist.org/00h0h_dWW8VBpnA...   \n",
       "39422           18  [https://images.craigslist.org/00h0h_dWW8VBpnA...   \n",
       "39423            5  [https://images.craigslist.org/00l0l_bMvW5LCdd...   \n",
       "39424           18  [https://images.craigslist.org/00h0h_dWW8VBpnA...   \n",
       "39425            1  [https://images.craigslist.org/00606_9m8vF1ZW7...   \n",
       "39426            6  [https://images.craigslist.org/01010_c08VCZw4t...   \n",
       "39419            1  [https://images.craigslist.org/00X0X_3AxP9SeQF...   \n",
       "39410            2  [https://images.craigslist.org/00L0L_acQDqwzoA...   \n",
       "39409            1  [https://images.craigslist.org/00707_ftWDUzu4V...   \n",
       "39427            1  [https://images.craigslist.org/00606_9m8vF1ZW7...   \n",
       "39390            1  [https://images.craigslist.org/00X0X_3AxP9SeQF...   \n",
       "39391           12  [https://images.craigslist.org/00b0b_el2HJVoCX...   \n",
       "...            ...                                                ...   \n",
       "24731            1  [https://images.craigslist.org/00w0w_aKYYLMmgh...   \n",
       "24732            1  [https://images.craigslist.org/00w0w_aKYYLMmgh...   \n",
       "24733            1  [https://images.craigslist.org/00606_gZMtlmkMC...   \n",
       "24734            1  [https://images.craigslist.org/00I0I_gc8au3MUT...   \n",
       "24726            1  [https://images.craigslist.org/00I0I_gc8au3MUT...   \n",
       "24694            3  [https://images.craigslist.org/01414_95nwUaLqN...   \n",
       "24715            1  [https://images.craigslist.org/00g0g_2hRiBj3Wg...   \n",
       "24713           13  [https://images.craigslist.org/00j0j_1h5frsU2z...   \n",
       "24696            2  [https://images.craigslist.org/00n0n_7siILv9BY...   \n",
       "24697            1  [https://images.craigslist.org/00i0i_dVZJ6cAtI...   \n",
       "24698            7  [https://images.craigslist.org/01111_dYLnIkPM3...   \n",
       "24699            7  [https://images.craigslist.org/00c0c_eqIPwC4Ld...   \n",
       "247              2  [https://images.craigslist.org/00202_kIfBD1Gbv...   \n",
       "2470            24  [https://images.craigslist.org/00S0S_9T9ITH87F...   \n",
       "24700            6  [https://images.craigslist.org/00101_75E797GBb...   \n",
       "24701            1  [https://images.craigslist.org/00h0h_jNIocDWi5...   \n",
       "24702            6  [https://images.craigslist.org/00G0G_dA9ssySXx...   \n",
       "24714            6  [https://images.craigslist.org/01212_fFwTFFekE...   \n",
       "24703            4  [https://images.craigslist.org/00r0r_3UK70SuXj...   \n",
       "24705            5  [https://images.craigslist.org/00404_7yBEYoNry...   \n",
       "24706            3  [https://images.craigslist.org/00l0l_1szMhFwig...   \n",
       "24707            7  [https://images.craigslist.org/01212_eUmj3rndF...   \n",
       "24708            7  [https://images.craigslist.org/01212_eUmj3rndF...   \n",
       "24709            3  [https://images.craigslist.org/00b0b_8Io0i7kl4...   \n",
       "2471            20  [https://images.craigslist.org/01717_5DtKbGrze...   \n",
       "24710            2  [https://images.craigslist.org/00d0d_ei7x892Rt...   \n",
       "24711            4  [https://images.craigslist.org/00w0w_1FbRx16zF...   \n",
       "24712            7  [https://images.craigslist.org/00l0l_kjAcggIeH...   \n",
       "24704            4  [https://images.craigslist.org/01111_3S7awnL8Y...   \n",
       "exist         True                                               True   \n",
       "\n",
       "           postId  exist  \n",
       "10392  5943725529  False  \n",
       "10345  5949383953  False  \n",
       "10822  5954724974  False  \n",
       "11011  5946441380  False  \n",
       "11005  5947796703  False  \n",
       "10826  5943961496  False  \n",
       "10855  5953103823  False  \n",
       "0      6002472651   True  \n",
       "39412  6040180439   True  \n",
       "39413  6029872819   True  \n",
       "39414  6040249283   True  \n",
       "39415  6036010266   True  \n",
       "39416  6046471577   True  \n",
       "39417  6040286034   True  \n",
       "39418  6040276988   True  \n",
       "39420  6046463345   True  \n",
       "3942   6005785828   True  \n",
       "39411  6040110367   True  \n",
       "39421  6009557448   True  \n",
       "39422  6006030197   True  \n",
       "39423  6046659859   True  \n",
       "39424  6018346372   True  \n",
       "39425  6046669414   True  \n",
       "39426  6046658729   True  \n",
       "39419  6042512870   True  \n",
       "39410  6034114450   True  \n",
       "39409  6033033952   True  \n",
       "39427  6046671186   True  \n",
       "39390  6024883134   True  \n",
       "39391  6045658287   True  \n",
       "...           ...    ...  \n",
       "24731  6044653141   True  \n",
       "24732  6041577787   True  \n",
       "24733  6022233073   True  \n",
       "24734  6037173081   True  \n",
       "24726  6037161070   True  \n",
       "24694  6044452041   True  \n",
       "24715  6039033474   True  \n",
       "24713  6044051880   True  \n",
       "24696  6043248627   True  \n",
       "24697  6039583276   True  \n",
       "24698  6044508294   True  \n",
       "24699  6043278479   True  \n",
       "247    6043118393   True  \n",
       "2470   6028204088   True  \n",
       "24700  6044062871   True  \n",
       "24701  6043546424   True  \n",
       "24702  6043558489   True  \n",
       "24714  6044202009   True  \n",
       "24703  6040287569   True  \n",
       "24705  6028064746   True  \n",
       "24706  6036698315   True  \n",
       "24707  6038121768   True  \n",
       "24708  6039474221   True  \n",
       "24709  6044040604   True  \n",
       "2471   6028073090   True  \n",
       "24710  6044102005   True  \n",
       "24711  6040675393   True  \n",
       "24712  6040118133   True  \n",
       "24704  6009246403   True  \n",
       "exist        True   True  \n",
       "\n",
       "[49020 rows x 4 columns]"
      ]
     },
     "execution_count": 82,
     "metadata": {},
     "output_type": "execute_result"
    }
   ],
   "source": [
    "#annonces_photos.sort(['numberPhotos', 'photos', 'postId', 'exist'], axis = 0, ascending=[True, True, False, True]).head()\n",
    "#annonces_photos.columns\n",
    "annonces_photos.sort_values('exist')"
   ]
  },
  {
   "cell_type": "code",
   "execution_count": 84,
   "metadata": {
    "collapsed": false
   },
   "outputs": [],
   "source": [
    "annonces_photos2 = annonces_photos.drop('exist')"
   ]
  },
  {
   "cell_type": "code",
   "execution_count": 86,
   "metadata": {
    "collapsed": false
   },
   "outputs": [],
   "source": [
    "annonces_photos2 = annonces_photos2.sort_values('exist')"
   ]
  },
  {
   "cell_type": "code",
   "execution_count": 87,
   "metadata": {
    "collapsed": false,
    "scrolled": true
   },
   "outputs": [
    {
     "data": {
      "text/html": [
       "<div>\n",
       "<table border=\"1\" class=\"dataframe\">\n",
       "  <thead>\n",
       "    <tr style=\"text-align: right;\">\n",
       "      <th></th>\n",
       "      <th>numberPhotos</th>\n",
       "      <th>photos</th>\n",
       "      <th>postId</th>\n",
       "      <th>exist</th>\n",
       "    </tr>\n",
       "  </thead>\n",
       "  <tbody>\n",
       "    <tr>\n",
       "      <th>10392</th>\n",
       "      <td>7</td>\n",
       "      <td>[https://images.craigslist.org/00I0I_be2cAkF8s...</td>\n",
       "      <td>5943725529</td>\n",
       "      <td>False</td>\n",
       "    </tr>\n",
       "    <tr>\n",
       "      <th>10345</th>\n",
       "      <td>3</td>\n",
       "      <td>[https://images.craigslist.org/00Y0Y_icOELnusm...</td>\n",
       "      <td>5949383953</td>\n",
       "      <td>False</td>\n",
       "    </tr>\n",
       "    <tr>\n",
       "      <th>10822</th>\n",
       "      <td>1</td>\n",
       "      <td>[https://images.craigslist.org/00202_15QDB5H48...</td>\n",
       "      <td>5954724974</td>\n",
       "      <td>False</td>\n",
       "    </tr>\n",
       "    <tr>\n",
       "      <th>11011</th>\n",
       "      <td>4</td>\n",
       "      <td>[https://images.craigslist.org/00g0g_5RcyzuQsM...</td>\n",
       "      <td>5946441380</td>\n",
       "      <td>False</td>\n",
       "    </tr>\n",
       "    <tr>\n",
       "      <th>11005</th>\n",
       "      <td>17</td>\n",
       "      <td>[https://images.craigslist.org/00F0F_kz4snfOyp...</td>\n",
       "      <td>5947796703</td>\n",
       "      <td>False</td>\n",
       "    </tr>\n",
       "  </tbody>\n",
       "</table>\n",
       "</div>"
      ],
      "text/plain": [
       "      numberPhotos                                             photos  \\\n",
       "10392            7  [https://images.craigslist.org/00I0I_be2cAkF8s...   \n",
       "10345            3  [https://images.craigslist.org/00Y0Y_icOELnusm...   \n",
       "10822            1  [https://images.craigslist.org/00202_15QDB5H48...   \n",
       "11011            4  [https://images.craigslist.org/00g0g_5RcyzuQsM...   \n",
       "11005           17  [https://images.craigslist.org/00F0F_kz4snfOyp...   \n",
       "\n",
       "           postId  exist  \n",
       "10392  5943725529  False  \n",
       "10345  5949383953  False  \n",
       "10822  5954724974  False  \n",
       "11011  5946441380  False  \n",
       "11005  5947796703  False  "
      ]
     },
     "execution_count": 87,
     "metadata": {},
     "output_type": "execute_result"
    }
   ],
   "source": [
    "annonces_photos2.head()"
   ]
  },
  {
   "cell_type": "code",
   "execution_count": 94,
   "metadata": {
    "collapsed": false
   },
   "outputs": [],
   "source": [
    "toto = annonces_photos2[0:3]"
   ]
  },
  {
   "cell_type": "code",
   "execution_count": 101,
   "metadata": {
    "collapsed": false
   },
   "outputs": [
    {
     "name": "stdout",
     "output_type": "stream",
     "text": [
      "10392\n",
      "5943725529\n",
      "10345\n",
      "5949383953\n",
      "10822\n",
      "5954724974\n"
     ]
    }
   ],
   "source": [
    "for index, row in toto.sort_values('exist').iterrows():\n",
    "    print(index)\n",
    "    print (row['postId'])"
   ]
  },
  {
   "cell_type": "code",
   "execution_count": 98,
   "metadata": {
    "collapsed": false
   },
   "outputs": [
    {
     "data": {
      "text/html": [
       "<div>\n",
       "<table border=\"1\" class=\"dataframe\">\n",
       "  <thead>\n",
       "    <tr style=\"text-align: right;\">\n",
       "      <th></th>\n",
       "      <th>numberPhotos</th>\n",
       "      <th>photos</th>\n",
       "      <th>postId</th>\n",
       "      <th>exist</th>\n",
       "    </tr>\n",
       "  </thead>\n",
       "  <tbody>\n",
       "    <tr>\n",
       "      <th>10392</th>\n",
       "      <td>7</td>\n",
       "      <td>[https://images.craigslist.org/00I0I_be2cAkF8s...</td>\n",
       "      <td>5943725529</td>\n",
       "      <td>False</td>\n",
       "    </tr>\n",
       "    <tr>\n",
       "      <th>10345</th>\n",
       "      <td>3</td>\n",
       "      <td>[https://images.craigslist.org/00Y0Y_icOELnusm...</td>\n",
       "      <td>5949383953</td>\n",
       "      <td>False</td>\n",
       "    </tr>\n",
       "    <tr>\n",
       "      <th>10822</th>\n",
       "      <td>1</td>\n",
       "      <td>[https://images.craigslist.org/00202_15QDB5H48...</td>\n",
       "      <td>5954724974</td>\n",
       "      <td>False</td>\n",
       "    </tr>\n",
       "  </tbody>\n",
       "</table>\n",
       "</div>"
      ],
      "text/plain": [
       "      numberPhotos                                             photos  \\\n",
       "10392            7  [https://images.craigslist.org/00I0I_be2cAkF8s...   \n",
       "10345            3  [https://images.craigslist.org/00Y0Y_icOELnusm...   \n",
       "10822            1  [https://images.craigslist.org/00202_15QDB5H48...   \n",
       "\n",
       "           postId  exist  \n",
       "10392  5943725529  False  \n",
       "10345  5949383953  False  \n",
       "10822  5954724974  False  "
      ]
     },
     "execution_count": 98,
     "metadata": {},
     "output_type": "execute_result"
    }
   ],
   "source": [
    "toto"
   ]
  },
  {
   "cell_type": "code",
   "execution_count": 2,
   "metadata": {
    "collapsed": true
   },
   "outputs": [],
   "source": [
    "data_done = pandas.read_json(os.path.join(home, 'data/urls_done.json'))"
   ]
  },
  {
   "cell_type": "code",
   "execution_count": 3,
   "metadata": {
    "collapsed": false,
    "scrolled": true
   },
   "outputs": [
    {
     "data": {
      "text/html": [
       "<div>\n",
       "<table border=\"1\" class=\"dataframe\">\n",
       "  <thead>\n",
       "    <tr style=\"text-align: right;\">\n",
       "      <th></th>\n",
       "      <th>exist</th>\n",
       "      <th>flag</th>\n",
       "      <th>postId</th>\n",
       "      <th>urls</th>\n",
       "    </tr>\n",
       "  </thead>\n",
       "  <tbody>\n",
       "    <tr>\n",
       "      <th>0</th>\n",
       "      <td>True</td>\n",
       "      <td>0</td>\n",
       "      <td>6002472651</td>\n",
       "      <td>https://images.craigslist.org/00W0W_1BQvcKZaei...</td>\n",
       "    </tr>\n",
       "    <tr>\n",
       "      <th>1</th>\n",
       "      <td>True</td>\n",
       "      <td>0</td>\n",
       "      <td>6002472651</td>\n",
       "      <td>https://images.craigslist.org/00Z0Z_ehVZ218Twh...</td>\n",
       "    </tr>\n",
       "    <tr>\n",
       "      <th>10</th>\n",
       "      <td>True</td>\n",
       "      <td>0</td>\n",
       "      <td>6003718557</td>\n",
       "      <td>https://images.craigslist.org/00c0c_fJB5VeusyD...</td>\n",
       "    </tr>\n",
       "    <tr>\n",
       "      <th>100</th>\n",
       "      <td>True</td>\n",
       "      <td>0</td>\n",
       "      <td>6008848367</td>\n",
       "      <td>https://images.craigslist.org/00F0F_hYQ8xPyi1i...</td>\n",
       "    </tr>\n",
       "    <tr>\n",
       "      <th>1000</th>\n",
       "      <td>True</td>\n",
       "      <td>0</td>\n",
       "      <td>6033767363</td>\n",
       "      <td>https://images.craigslist.org/00f0f_hZwEuJddaM...</td>\n",
       "    </tr>\n",
       "  </tbody>\n",
       "</table>\n",
       "</div>"
      ],
      "text/plain": [
       "     exist  flag      postId  \\\n",
       "0     True     0  6002472651   \n",
       "1     True     0  6002472651   \n",
       "10    True     0  6003718557   \n",
       "100   True     0  6008848367   \n",
       "1000  True     0  6033767363   \n",
       "\n",
       "                                                   urls  \n",
       "0     https://images.craigslist.org/00W0W_1BQvcKZaei...  \n",
       "1     https://images.craigslist.org/00Z0Z_ehVZ218Twh...  \n",
       "10    https://images.craigslist.org/00c0c_fJB5VeusyD...  \n",
       "100   https://images.craigslist.org/00F0F_hYQ8xPyi1i...  \n",
       "1000  https://images.craigslist.org/00f0f_hZwEuJddaM...  "
      ]
     },
     "execution_count": 3,
     "metadata": {},
     "output_type": "execute_result"
    }
   ],
   "source": [
    "data_done.head()"
   ]
  },
  {
   "cell_type": "code",
   "execution_count": 5,
   "metadata": {
    "collapsed": false
   },
   "outputs": [
    {
     "data": {
      "text/plain": [
       "(209014, 4)"
      ]
     },
     "execution_count": 5,
     "metadata": {},
     "output_type": "execute_result"
    }
   ],
   "source": [
    "data_done[data_done['exist']=='True'].shape"
   ]
  },
  {
   "cell_type": "code",
   "execution_count": 6,
   "metadata": {
    "collapsed": true
   },
   "outputs": [],
   "source": [
    "data_urls = pandas.read_json(os.path.join(home, 'data/urls.json'))"
   ]
  },
  {
   "cell_type": "code",
   "execution_count": 7,
   "metadata": {
    "collapsed": false
   },
   "outputs": [
    {
     "data": {
      "text/plain": [
       "(209014, 2)"
      ]
     },
     "execution_count": 7,
     "metadata": {},
     "output_type": "execute_result"
    }
   ],
   "source": [
    "data_urls.shape"
   ]
  },
  {
   "cell_type": "code",
   "execution_count": 8,
   "metadata": {
    "collapsed": true
   },
   "outputs": [],
   "source": [
    "import logging"
   ]
  },
  {
   "cell_type": "code",
   "execution_count": 9,
   "metadata": {
    "collapsed": true
   },
   "outputs": [],
   "source": [
    "logging.basicConfig(filename = os.path.join(home, 'code/testing.log'), level=logging.DEBUG)\n",
    "logging.warning(\"Watch out!\")"
   ]
  }
 ],
 "metadata": {
  "anaconda-cloud": {},
  "kernelspec": {
   "display_name": "Python [Root]",
   "language": "python",
   "name": "Python [Root]"
  },
  "language_info": {
   "codemirror_mode": {
    "name": "ipython",
    "version": 3
   },
   "file_extension": ".py",
   "mimetype": "text/x-python",
   "name": "python",
   "nbconvert_exporter": "python",
   "pygments_lexer": "ipython3",
   "version": "3.5.2"
  }
 },
 "nbformat": 4,
 "nbformat_minor": 0
}
